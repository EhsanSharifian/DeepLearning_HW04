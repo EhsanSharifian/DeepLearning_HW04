{
  "nbformat": 4,
  "nbformat_minor": 0,
  "metadata": {
    "colab": {
      "provenance": []
    },
    "kernelspec": {
      "name": "python3",
      "display_name": "Python 3"
    },
    "language_info": {
      "name": "python"
    },
    "accelerator": "GPU",
    "gpuClass": "standard",
    "widgets": {
      "application/vnd.jupyter.widget-state+json": {
        "923efafe5e1849418a1efb8c8022d563": {
          "model_module": "@jupyter-widgets/controls",
          "model_name": "HBoxModel",
          "model_module_version": "1.5.0",
          "state": {
            "_dom_classes": [],
            "_model_module": "@jupyter-widgets/controls",
            "_model_module_version": "1.5.0",
            "_model_name": "HBoxModel",
            "_view_count": null,
            "_view_module": "@jupyter-widgets/controls",
            "_view_module_version": "1.5.0",
            "_view_name": "HBoxView",
            "box_style": "",
            "children": [
              "IPY_MODEL_97eb3431ae1842f18150b5d2140f94bd",
              "IPY_MODEL_b6a0d0af59f94064bb0ca58186feec84",
              "IPY_MODEL_e3d202c8e7cd4d18bf63d966f205a876"
            ],
            "layout": "IPY_MODEL_de8c5a0237964c1dbef02dd530c518a7"
          }
        },
        "97eb3431ae1842f18150b5d2140f94bd": {
          "model_module": "@jupyter-widgets/controls",
          "model_name": "HTMLModel",
          "model_module_version": "1.5.0",
          "state": {
            "_dom_classes": [],
            "_model_module": "@jupyter-widgets/controls",
            "_model_module_version": "1.5.0",
            "_model_name": "HTMLModel",
            "_view_count": null,
            "_view_module": "@jupyter-widgets/controls",
            "_view_module_version": "1.5.0",
            "_view_name": "HTMLView",
            "description": "",
            "description_tooltip": null,
            "layout": "IPY_MODEL_f87d88c46b1b4ce4bff57899f6e67445",
            "placeholder": "​",
            "style": "IPY_MODEL_656e8c0f05484bd7af8477dbb1113435",
            "value": "Downloading (…)lve/main/config.json: 100%"
          }
        },
        "b6a0d0af59f94064bb0ca58186feec84": {
          "model_module": "@jupyter-widgets/controls",
          "model_name": "FloatProgressModel",
          "model_module_version": "1.5.0",
          "state": {
            "_dom_classes": [],
            "_model_module": "@jupyter-widgets/controls",
            "_model_module_version": "1.5.0",
            "_model_name": "FloatProgressModel",
            "_view_count": null,
            "_view_module": "@jupyter-widgets/controls",
            "_view_module_version": "1.5.0",
            "_view_name": "ProgressView",
            "bar_style": "success",
            "description": "",
            "description_tooltip": null,
            "layout": "IPY_MODEL_0914f09cdbef48bc9182afaecd303197",
            "max": 440,
            "min": 0,
            "orientation": "horizontal",
            "style": "IPY_MODEL_28e93f2c88e9477c9bf35712edf6ddf7",
            "value": 440
          }
        },
        "e3d202c8e7cd4d18bf63d966f205a876": {
          "model_module": "@jupyter-widgets/controls",
          "model_name": "HTMLModel",
          "model_module_version": "1.5.0",
          "state": {
            "_dom_classes": [],
            "_model_module": "@jupyter-widgets/controls",
            "_model_module_version": "1.5.0",
            "_model_name": "HTMLModel",
            "_view_count": null,
            "_view_module": "@jupyter-widgets/controls",
            "_view_module_version": "1.5.0",
            "_view_name": "HTMLView",
            "description": "",
            "description_tooltip": null,
            "layout": "IPY_MODEL_4bd4121c4e164c9681c3dec4acf38bf2",
            "placeholder": "​",
            "style": "IPY_MODEL_f2ebd4d7bb674c279de471a4a6d9bd95",
            "value": " 440/440 [00:00&lt;00:00, 18.7kB/s]"
          }
        },
        "de8c5a0237964c1dbef02dd530c518a7": {
          "model_module": "@jupyter-widgets/base",
          "model_name": "LayoutModel",
          "model_module_version": "1.2.0",
          "state": {
            "_model_module": "@jupyter-widgets/base",
            "_model_module_version": "1.2.0",
            "_model_name": "LayoutModel",
            "_view_count": null,
            "_view_module": "@jupyter-widgets/base",
            "_view_module_version": "1.2.0",
            "_view_name": "LayoutView",
            "align_content": null,
            "align_items": null,
            "align_self": null,
            "border": null,
            "bottom": null,
            "display": null,
            "flex": null,
            "flex_flow": null,
            "grid_area": null,
            "grid_auto_columns": null,
            "grid_auto_flow": null,
            "grid_auto_rows": null,
            "grid_column": null,
            "grid_gap": null,
            "grid_row": null,
            "grid_template_areas": null,
            "grid_template_columns": null,
            "grid_template_rows": null,
            "height": null,
            "justify_content": null,
            "justify_items": null,
            "left": null,
            "margin": null,
            "max_height": null,
            "max_width": null,
            "min_height": null,
            "min_width": null,
            "object_fit": null,
            "object_position": null,
            "order": null,
            "overflow": null,
            "overflow_x": null,
            "overflow_y": null,
            "padding": null,
            "right": null,
            "top": null,
            "visibility": null,
            "width": null
          }
        },
        "f87d88c46b1b4ce4bff57899f6e67445": {
          "model_module": "@jupyter-widgets/base",
          "model_name": "LayoutModel",
          "model_module_version": "1.2.0",
          "state": {
            "_model_module": "@jupyter-widgets/base",
            "_model_module_version": "1.2.0",
            "_model_name": "LayoutModel",
            "_view_count": null,
            "_view_module": "@jupyter-widgets/base",
            "_view_module_version": "1.2.0",
            "_view_name": "LayoutView",
            "align_content": null,
            "align_items": null,
            "align_self": null,
            "border": null,
            "bottom": null,
            "display": null,
            "flex": null,
            "flex_flow": null,
            "grid_area": null,
            "grid_auto_columns": null,
            "grid_auto_flow": null,
            "grid_auto_rows": null,
            "grid_column": null,
            "grid_gap": null,
            "grid_row": null,
            "grid_template_areas": null,
            "grid_template_columns": null,
            "grid_template_rows": null,
            "height": null,
            "justify_content": null,
            "justify_items": null,
            "left": null,
            "margin": null,
            "max_height": null,
            "max_width": null,
            "min_height": null,
            "min_width": null,
            "object_fit": null,
            "object_position": null,
            "order": null,
            "overflow": null,
            "overflow_x": null,
            "overflow_y": null,
            "padding": null,
            "right": null,
            "top": null,
            "visibility": null,
            "width": null
          }
        },
        "656e8c0f05484bd7af8477dbb1113435": {
          "model_module": "@jupyter-widgets/controls",
          "model_name": "DescriptionStyleModel",
          "model_module_version": "1.5.0",
          "state": {
            "_model_module": "@jupyter-widgets/controls",
            "_model_module_version": "1.5.0",
            "_model_name": "DescriptionStyleModel",
            "_view_count": null,
            "_view_module": "@jupyter-widgets/base",
            "_view_module_version": "1.2.0",
            "_view_name": "StyleView",
            "description_width": ""
          }
        },
        "0914f09cdbef48bc9182afaecd303197": {
          "model_module": "@jupyter-widgets/base",
          "model_name": "LayoutModel",
          "model_module_version": "1.2.0",
          "state": {
            "_model_module": "@jupyter-widgets/base",
            "_model_module_version": "1.2.0",
            "_model_name": "LayoutModel",
            "_view_count": null,
            "_view_module": "@jupyter-widgets/base",
            "_view_module_version": "1.2.0",
            "_view_name": "LayoutView",
            "align_content": null,
            "align_items": null,
            "align_self": null,
            "border": null,
            "bottom": null,
            "display": null,
            "flex": null,
            "flex_flow": null,
            "grid_area": null,
            "grid_auto_columns": null,
            "grid_auto_flow": null,
            "grid_auto_rows": null,
            "grid_column": null,
            "grid_gap": null,
            "grid_row": null,
            "grid_template_areas": null,
            "grid_template_columns": null,
            "grid_template_rows": null,
            "height": null,
            "justify_content": null,
            "justify_items": null,
            "left": null,
            "margin": null,
            "max_height": null,
            "max_width": null,
            "min_height": null,
            "min_width": null,
            "object_fit": null,
            "object_position": null,
            "order": null,
            "overflow": null,
            "overflow_x": null,
            "overflow_y": null,
            "padding": null,
            "right": null,
            "top": null,
            "visibility": null,
            "width": null
          }
        },
        "28e93f2c88e9477c9bf35712edf6ddf7": {
          "model_module": "@jupyter-widgets/controls",
          "model_name": "ProgressStyleModel",
          "model_module_version": "1.5.0",
          "state": {
            "_model_module": "@jupyter-widgets/controls",
            "_model_module_version": "1.5.0",
            "_model_name": "ProgressStyleModel",
            "_view_count": null,
            "_view_module": "@jupyter-widgets/base",
            "_view_module_version": "1.2.0",
            "_view_name": "StyleView",
            "bar_color": null,
            "description_width": ""
          }
        },
        "4bd4121c4e164c9681c3dec4acf38bf2": {
          "model_module": "@jupyter-widgets/base",
          "model_name": "LayoutModel",
          "model_module_version": "1.2.0",
          "state": {
            "_model_module": "@jupyter-widgets/base",
            "_model_module_version": "1.2.0",
            "_model_name": "LayoutModel",
            "_view_count": null,
            "_view_module": "@jupyter-widgets/base",
            "_view_module_version": "1.2.0",
            "_view_name": "LayoutView",
            "align_content": null,
            "align_items": null,
            "align_self": null,
            "border": null,
            "bottom": null,
            "display": null,
            "flex": null,
            "flex_flow": null,
            "grid_area": null,
            "grid_auto_columns": null,
            "grid_auto_flow": null,
            "grid_auto_rows": null,
            "grid_column": null,
            "grid_gap": null,
            "grid_row": null,
            "grid_template_areas": null,
            "grid_template_columns": null,
            "grid_template_rows": null,
            "height": null,
            "justify_content": null,
            "justify_items": null,
            "left": null,
            "margin": null,
            "max_height": null,
            "max_width": null,
            "min_height": null,
            "min_width": null,
            "object_fit": null,
            "object_position": null,
            "order": null,
            "overflow": null,
            "overflow_x": null,
            "overflow_y": null,
            "padding": null,
            "right": null,
            "top": null,
            "visibility": null,
            "width": null
          }
        },
        "f2ebd4d7bb674c279de471a4a6d9bd95": {
          "model_module": "@jupyter-widgets/controls",
          "model_name": "DescriptionStyleModel",
          "model_module_version": "1.5.0",
          "state": {
            "_model_module": "@jupyter-widgets/controls",
            "_model_module_version": "1.5.0",
            "_model_name": "DescriptionStyleModel",
            "_view_count": null,
            "_view_module": "@jupyter-widgets/base",
            "_view_module_version": "1.2.0",
            "_view_name": "StyleView",
            "description_width": ""
          }
        },
        "6b2e0d1fccf84a05af21f6167fc89397": {
          "model_module": "@jupyter-widgets/controls",
          "model_name": "HBoxModel",
          "model_module_version": "1.5.0",
          "state": {
            "_dom_classes": [],
            "_model_module": "@jupyter-widgets/controls",
            "_model_module_version": "1.5.0",
            "_model_name": "HBoxModel",
            "_view_count": null,
            "_view_module": "@jupyter-widgets/controls",
            "_view_module_version": "1.5.0",
            "_view_name": "HBoxView",
            "box_style": "",
            "children": [
              "IPY_MODEL_23fc15bbbc4e4476b16526a49148510e",
              "IPY_MODEL_659cccbf73c740faa3c31e9d8595174f",
              "IPY_MODEL_3ad4b03d0ca24a908d84c491f68cfd8a"
            ],
            "layout": "IPY_MODEL_adb5a20280d84e96a82672bdcc1032fd"
          }
        },
        "23fc15bbbc4e4476b16526a49148510e": {
          "model_module": "@jupyter-widgets/controls",
          "model_name": "HTMLModel",
          "model_module_version": "1.5.0",
          "state": {
            "_dom_classes": [],
            "_model_module": "@jupyter-widgets/controls",
            "_model_module_version": "1.5.0",
            "_model_name": "HTMLModel",
            "_view_count": null,
            "_view_module": "@jupyter-widgets/controls",
            "_view_module_version": "1.5.0",
            "_view_name": "HTMLView",
            "description": "",
            "description_tooltip": null,
            "layout": "IPY_MODEL_b5fbb15e9ae64072a60f78b913fe0e69",
            "placeholder": "​",
            "style": "IPY_MODEL_0e4fe86f9b8d4ecdb43dd5cb18f37b6c",
            "value": "Downloading (…)solve/main/vocab.txt: 100%"
          }
        },
        "659cccbf73c740faa3c31e9d8595174f": {
          "model_module": "@jupyter-widgets/controls",
          "model_name": "FloatProgressModel",
          "model_module_version": "1.5.0",
          "state": {
            "_dom_classes": [],
            "_model_module": "@jupyter-widgets/controls",
            "_model_module_version": "1.5.0",
            "_model_name": "FloatProgressModel",
            "_view_count": null,
            "_view_module": "@jupyter-widgets/controls",
            "_view_module_version": "1.5.0",
            "_view_name": "ProgressView",
            "bar_style": "success",
            "description": "",
            "description_tooltip": null,
            "layout": "IPY_MODEL_906e668395044301a552777a87521e34",
            "max": 1198122,
            "min": 0,
            "orientation": "horizontal",
            "style": "IPY_MODEL_ef668bc8fec94892a4ae02deefcfa352",
            "value": 1198122
          }
        },
        "3ad4b03d0ca24a908d84c491f68cfd8a": {
          "model_module": "@jupyter-widgets/controls",
          "model_name": "HTMLModel",
          "model_module_version": "1.5.0",
          "state": {
            "_dom_classes": [],
            "_model_module": "@jupyter-widgets/controls",
            "_model_module_version": "1.5.0",
            "_model_name": "HTMLModel",
            "_view_count": null,
            "_view_module": "@jupyter-widgets/controls",
            "_view_module_version": "1.5.0",
            "_view_name": "HTMLView",
            "description": "",
            "description_tooltip": null,
            "layout": "IPY_MODEL_cd79c8b594ac44cea94dbd4b96e6d134",
            "placeholder": "​",
            "style": "IPY_MODEL_816a85824bed4871b83c9cce67c2d7b2",
            "value": " 1.20M/1.20M [00:00&lt;00:00, 3.22MB/s]"
          }
        },
        "adb5a20280d84e96a82672bdcc1032fd": {
          "model_module": "@jupyter-widgets/base",
          "model_name": "LayoutModel",
          "model_module_version": "1.2.0",
          "state": {
            "_model_module": "@jupyter-widgets/base",
            "_model_module_version": "1.2.0",
            "_model_name": "LayoutModel",
            "_view_count": null,
            "_view_module": "@jupyter-widgets/base",
            "_view_module_version": "1.2.0",
            "_view_name": "LayoutView",
            "align_content": null,
            "align_items": null,
            "align_self": null,
            "border": null,
            "bottom": null,
            "display": null,
            "flex": null,
            "flex_flow": null,
            "grid_area": null,
            "grid_auto_columns": null,
            "grid_auto_flow": null,
            "grid_auto_rows": null,
            "grid_column": null,
            "grid_gap": null,
            "grid_row": null,
            "grid_template_areas": null,
            "grid_template_columns": null,
            "grid_template_rows": null,
            "height": null,
            "justify_content": null,
            "justify_items": null,
            "left": null,
            "margin": null,
            "max_height": null,
            "max_width": null,
            "min_height": null,
            "min_width": null,
            "object_fit": null,
            "object_position": null,
            "order": null,
            "overflow": null,
            "overflow_x": null,
            "overflow_y": null,
            "padding": null,
            "right": null,
            "top": null,
            "visibility": null,
            "width": null
          }
        },
        "b5fbb15e9ae64072a60f78b913fe0e69": {
          "model_module": "@jupyter-widgets/base",
          "model_name": "LayoutModel",
          "model_module_version": "1.2.0",
          "state": {
            "_model_module": "@jupyter-widgets/base",
            "_model_module_version": "1.2.0",
            "_model_name": "LayoutModel",
            "_view_count": null,
            "_view_module": "@jupyter-widgets/base",
            "_view_module_version": "1.2.0",
            "_view_name": "LayoutView",
            "align_content": null,
            "align_items": null,
            "align_self": null,
            "border": null,
            "bottom": null,
            "display": null,
            "flex": null,
            "flex_flow": null,
            "grid_area": null,
            "grid_auto_columns": null,
            "grid_auto_flow": null,
            "grid_auto_rows": null,
            "grid_column": null,
            "grid_gap": null,
            "grid_row": null,
            "grid_template_areas": null,
            "grid_template_columns": null,
            "grid_template_rows": null,
            "height": null,
            "justify_content": null,
            "justify_items": null,
            "left": null,
            "margin": null,
            "max_height": null,
            "max_width": null,
            "min_height": null,
            "min_width": null,
            "object_fit": null,
            "object_position": null,
            "order": null,
            "overflow": null,
            "overflow_x": null,
            "overflow_y": null,
            "padding": null,
            "right": null,
            "top": null,
            "visibility": null,
            "width": null
          }
        },
        "0e4fe86f9b8d4ecdb43dd5cb18f37b6c": {
          "model_module": "@jupyter-widgets/controls",
          "model_name": "DescriptionStyleModel",
          "model_module_version": "1.5.0",
          "state": {
            "_model_module": "@jupyter-widgets/controls",
            "_model_module_version": "1.5.0",
            "_model_name": "DescriptionStyleModel",
            "_view_count": null,
            "_view_module": "@jupyter-widgets/base",
            "_view_module_version": "1.2.0",
            "_view_name": "StyleView",
            "description_width": ""
          }
        },
        "906e668395044301a552777a87521e34": {
          "model_module": "@jupyter-widgets/base",
          "model_name": "LayoutModel",
          "model_module_version": "1.2.0",
          "state": {
            "_model_module": "@jupyter-widgets/base",
            "_model_module_version": "1.2.0",
            "_model_name": "LayoutModel",
            "_view_count": null,
            "_view_module": "@jupyter-widgets/base",
            "_view_module_version": "1.2.0",
            "_view_name": "LayoutView",
            "align_content": null,
            "align_items": null,
            "align_self": null,
            "border": null,
            "bottom": null,
            "display": null,
            "flex": null,
            "flex_flow": null,
            "grid_area": null,
            "grid_auto_columns": null,
            "grid_auto_flow": null,
            "grid_auto_rows": null,
            "grid_column": null,
            "grid_gap": null,
            "grid_row": null,
            "grid_template_areas": null,
            "grid_template_columns": null,
            "grid_template_rows": null,
            "height": null,
            "justify_content": null,
            "justify_items": null,
            "left": null,
            "margin": null,
            "max_height": null,
            "max_width": null,
            "min_height": null,
            "min_width": null,
            "object_fit": null,
            "object_position": null,
            "order": null,
            "overflow": null,
            "overflow_x": null,
            "overflow_y": null,
            "padding": null,
            "right": null,
            "top": null,
            "visibility": null,
            "width": null
          }
        },
        "ef668bc8fec94892a4ae02deefcfa352": {
          "model_module": "@jupyter-widgets/controls",
          "model_name": "ProgressStyleModel",
          "model_module_version": "1.5.0",
          "state": {
            "_model_module": "@jupyter-widgets/controls",
            "_model_module_version": "1.5.0",
            "_model_name": "ProgressStyleModel",
            "_view_count": null,
            "_view_module": "@jupyter-widgets/base",
            "_view_module_version": "1.2.0",
            "_view_name": "StyleView",
            "bar_color": null,
            "description_width": ""
          }
        },
        "cd79c8b594ac44cea94dbd4b96e6d134": {
          "model_module": "@jupyter-widgets/base",
          "model_name": "LayoutModel",
          "model_module_version": "1.2.0",
          "state": {
            "_model_module": "@jupyter-widgets/base",
            "_model_module_version": "1.2.0",
            "_model_name": "LayoutModel",
            "_view_count": null,
            "_view_module": "@jupyter-widgets/base",
            "_view_module_version": "1.2.0",
            "_view_name": "LayoutView",
            "align_content": null,
            "align_items": null,
            "align_self": null,
            "border": null,
            "bottom": null,
            "display": null,
            "flex": null,
            "flex_flow": null,
            "grid_area": null,
            "grid_auto_columns": null,
            "grid_auto_flow": null,
            "grid_auto_rows": null,
            "grid_column": null,
            "grid_gap": null,
            "grid_row": null,
            "grid_template_areas": null,
            "grid_template_columns": null,
            "grid_template_rows": null,
            "height": null,
            "justify_content": null,
            "justify_items": null,
            "left": null,
            "margin": null,
            "max_height": null,
            "max_width": null,
            "min_height": null,
            "min_width": null,
            "object_fit": null,
            "object_position": null,
            "order": null,
            "overflow": null,
            "overflow_x": null,
            "overflow_y": null,
            "padding": null,
            "right": null,
            "top": null,
            "visibility": null,
            "width": null
          }
        },
        "816a85824bed4871b83c9cce67c2d7b2": {
          "model_module": "@jupyter-widgets/controls",
          "model_name": "DescriptionStyleModel",
          "model_module_version": "1.5.0",
          "state": {
            "_model_module": "@jupyter-widgets/controls",
            "_model_module_version": "1.5.0",
            "_model_name": "DescriptionStyleModel",
            "_view_count": null,
            "_view_module": "@jupyter-widgets/base",
            "_view_module_version": "1.2.0",
            "_view_name": "StyleView",
            "description_width": ""
          }
        },
        "fb8a8b71a0f640328434544ac312bbcf": {
          "model_module": "@jupyter-widgets/controls",
          "model_name": "HBoxModel",
          "model_module_version": "1.5.0",
          "state": {
            "_dom_classes": [],
            "_model_module": "@jupyter-widgets/controls",
            "_model_module_version": "1.5.0",
            "_model_name": "HBoxModel",
            "_view_count": null,
            "_view_module": "@jupyter-widgets/controls",
            "_view_module_version": "1.5.0",
            "_view_name": "HBoxView",
            "box_style": "",
            "children": [
              "IPY_MODEL_17abbfe73019455282bc515da13562e3",
              "IPY_MODEL_35aa1f80058b46599efc2687f213483f",
              "IPY_MODEL_8557a90b716241879ee4fa11e3e01c8a"
            ],
            "layout": "IPY_MODEL_7a890c34239b4e28b51d347798b3baf1"
          }
        },
        "17abbfe73019455282bc515da13562e3": {
          "model_module": "@jupyter-widgets/controls",
          "model_name": "HTMLModel",
          "model_module_version": "1.5.0",
          "state": {
            "_dom_classes": [],
            "_model_module": "@jupyter-widgets/controls",
            "_model_module_version": "1.5.0",
            "_model_name": "HTMLModel",
            "_view_count": null,
            "_view_module": "@jupyter-widgets/controls",
            "_view_module_version": "1.5.0",
            "_view_name": "HTMLView",
            "description": "",
            "description_tooltip": null,
            "layout": "IPY_MODEL_dc59ca7be69e457a88261aede91c880a",
            "placeholder": "​",
            "style": "IPY_MODEL_d0db5c7b616544838a229e0732643880",
            "value": "Downloading (…)&quot;pytorch_model.bin&quot;;: 100%"
          }
        },
        "35aa1f80058b46599efc2687f213483f": {
          "model_module": "@jupyter-widgets/controls",
          "model_name": "FloatProgressModel",
          "model_module_version": "1.5.0",
          "state": {
            "_dom_classes": [],
            "_model_module": "@jupyter-widgets/controls",
            "_model_module_version": "1.5.0",
            "_model_name": "FloatProgressModel",
            "_view_count": null,
            "_view_module": "@jupyter-widgets/controls",
            "_view_module_version": "1.5.0",
            "_view_name": "ProgressView",
            "bar_style": "success",
            "description": "",
            "description_tooltip": null,
            "layout": "IPY_MODEL_d560ab78730a43b3bc1e840bf27fd1ca",
            "max": 654226731,
            "min": 0,
            "orientation": "horizontal",
            "style": "IPY_MODEL_df66ee0fcd6a41e3b5ae21a487281163",
            "value": 654226731
          }
        },
        "8557a90b716241879ee4fa11e3e01c8a": {
          "model_module": "@jupyter-widgets/controls",
          "model_name": "HTMLModel",
          "model_module_version": "1.5.0",
          "state": {
            "_dom_classes": [],
            "_model_module": "@jupyter-widgets/controls",
            "_model_module_version": "1.5.0",
            "_model_name": "HTMLModel",
            "_view_count": null,
            "_view_module": "@jupyter-widgets/controls",
            "_view_module_version": "1.5.0",
            "_view_name": "HTMLView",
            "description": "",
            "description_tooltip": null,
            "layout": "IPY_MODEL_6193d03262494dcb9041a175e6373aa4",
            "placeholder": "​",
            "style": "IPY_MODEL_34b174b6bec04ab69853e925a423768b",
            "value": " 654M/654M [00:02&lt;00:00, 266MB/s]"
          }
        },
        "7a890c34239b4e28b51d347798b3baf1": {
          "model_module": "@jupyter-widgets/base",
          "model_name": "LayoutModel",
          "model_module_version": "1.2.0",
          "state": {
            "_model_module": "@jupyter-widgets/base",
            "_model_module_version": "1.2.0",
            "_model_name": "LayoutModel",
            "_view_count": null,
            "_view_module": "@jupyter-widgets/base",
            "_view_module_version": "1.2.0",
            "_view_name": "LayoutView",
            "align_content": null,
            "align_items": null,
            "align_self": null,
            "border": null,
            "bottom": null,
            "display": null,
            "flex": null,
            "flex_flow": null,
            "grid_area": null,
            "grid_auto_columns": null,
            "grid_auto_flow": null,
            "grid_auto_rows": null,
            "grid_column": null,
            "grid_gap": null,
            "grid_row": null,
            "grid_template_areas": null,
            "grid_template_columns": null,
            "grid_template_rows": null,
            "height": null,
            "justify_content": null,
            "justify_items": null,
            "left": null,
            "margin": null,
            "max_height": null,
            "max_width": null,
            "min_height": null,
            "min_width": null,
            "object_fit": null,
            "object_position": null,
            "order": null,
            "overflow": null,
            "overflow_x": null,
            "overflow_y": null,
            "padding": null,
            "right": null,
            "top": null,
            "visibility": null,
            "width": null
          }
        },
        "dc59ca7be69e457a88261aede91c880a": {
          "model_module": "@jupyter-widgets/base",
          "model_name": "LayoutModel",
          "model_module_version": "1.2.0",
          "state": {
            "_model_module": "@jupyter-widgets/base",
            "_model_module_version": "1.2.0",
            "_model_name": "LayoutModel",
            "_view_count": null,
            "_view_module": "@jupyter-widgets/base",
            "_view_module_version": "1.2.0",
            "_view_name": "LayoutView",
            "align_content": null,
            "align_items": null,
            "align_self": null,
            "border": null,
            "bottom": null,
            "display": null,
            "flex": null,
            "flex_flow": null,
            "grid_area": null,
            "grid_auto_columns": null,
            "grid_auto_flow": null,
            "grid_auto_rows": null,
            "grid_column": null,
            "grid_gap": null,
            "grid_row": null,
            "grid_template_areas": null,
            "grid_template_columns": null,
            "grid_template_rows": null,
            "height": null,
            "justify_content": null,
            "justify_items": null,
            "left": null,
            "margin": null,
            "max_height": null,
            "max_width": null,
            "min_height": null,
            "min_width": null,
            "object_fit": null,
            "object_position": null,
            "order": null,
            "overflow": null,
            "overflow_x": null,
            "overflow_y": null,
            "padding": null,
            "right": null,
            "top": null,
            "visibility": null,
            "width": null
          }
        },
        "d0db5c7b616544838a229e0732643880": {
          "model_module": "@jupyter-widgets/controls",
          "model_name": "DescriptionStyleModel",
          "model_module_version": "1.5.0",
          "state": {
            "_model_module": "@jupyter-widgets/controls",
            "_model_module_version": "1.5.0",
            "_model_name": "DescriptionStyleModel",
            "_view_count": null,
            "_view_module": "@jupyter-widgets/base",
            "_view_module_version": "1.2.0",
            "_view_name": "StyleView",
            "description_width": ""
          }
        },
        "d560ab78730a43b3bc1e840bf27fd1ca": {
          "model_module": "@jupyter-widgets/base",
          "model_name": "LayoutModel",
          "model_module_version": "1.2.0",
          "state": {
            "_model_module": "@jupyter-widgets/base",
            "_model_module_version": "1.2.0",
            "_model_name": "LayoutModel",
            "_view_count": null,
            "_view_module": "@jupyter-widgets/base",
            "_view_module_version": "1.2.0",
            "_view_name": "LayoutView",
            "align_content": null,
            "align_items": null,
            "align_self": null,
            "border": null,
            "bottom": null,
            "display": null,
            "flex": null,
            "flex_flow": null,
            "grid_area": null,
            "grid_auto_columns": null,
            "grid_auto_flow": null,
            "grid_auto_rows": null,
            "grid_column": null,
            "grid_gap": null,
            "grid_row": null,
            "grid_template_areas": null,
            "grid_template_columns": null,
            "grid_template_rows": null,
            "height": null,
            "justify_content": null,
            "justify_items": null,
            "left": null,
            "margin": null,
            "max_height": null,
            "max_width": null,
            "min_height": null,
            "min_width": null,
            "object_fit": null,
            "object_position": null,
            "order": null,
            "overflow": null,
            "overflow_x": null,
            "overflow_y": null,
            "padding": null,
            "right": null,
            "top": null,
            "visibility": null,
            "width": null
          }
        },
        "df66ee0fcd6a41e3b5ae21a487281163": {
          "model_module": "@jupyter-widgets/controls",
          "model_name": "ProgressStyleModel",
          "model_module_version": "1.5.0",
          "state": {
            "_model_module": "@jupyter-widgets/controls",
            "_model_module_version": "1.5.0",
            "_model_name": "ProgressStyleModel",
            "_view_count": null,
            "_view_module": "@jupyter-widgets/base",
            "_view_module_version": "1.2.0",
            "_view_name": "StyleView",
            "bar_color": null,
            "description_width": ""
          }
        },
        "6193d03262494dcb9041a175e6373aa4": {
          "model_module": "@jupyter-widgets/base",
          "model_name": "LayoutModel",
          "model_module_version": "1.2.0",
          "state": {
            "_model_module": "@jupyter-widgets/base",
            "_model_module_version": "1.2.0",
            "_model_name": "LayoutModel",
            "_view_count": null,
            "_view_module": "@jupyter-widgets/base",
            "_view_module_version": "1.2.0",
            "_view_name": "LayoutView",
            "align_content": null,
            "align_items": null,
            "align_self": null,
            "border": null,
            "bottom": null,
            "display": null,
            "flex": null,
            "flex_flow": null,
            "grid_area": null,
            "grid_auto_columns": null,
            "grid_auto_flow": null,
            "grid_auto_rows": null,
            "grid_column": null,
            "grid_gap": null,
            "grid_row": null,
            "grid_template_areas": null,
            "grid_template_columns": null,
            "grid_template_rows": null,
            "height": null,
            "justify_content": null,
            "justify_items": null,
            "left": null,
            "margin": null,
            "max_height": null,
            "max_width": null,
            "min_height": null,
            "min_width": null,
            "object_fit": null,
            "object_position": null,
            "order": null,
            "overflow": null,
            "overflow_x": null,
            "overflow_y": null,
            "padding": null,
            "right": null,
            "top": null,
            "visibility": null,
            "width": null
          }
        },
        "34b174b6bec04ab69853e925a423768b": {
          "model_module": "@jupyter-widgets/controls",
          "model_name": "DescriptionStyleModel",
          "model_module_version": "1.5.0",
          "state": {
            "_model_module": "@jupyter-widgets/controls",
            "_model_module_version": "1.5.0",
            "_model_name": "DescriptionStyleModel",
            "_view_count": null,
            "_view_module": "@jupyter-widgets/base",
            "_view_module_version": "1.2.0",
            "_view_name": "StyleView",
            "description_width": ""
          }
        },
        "1e4a478acfcb431ba2fc943bd6311f78": {
          "model_module": "@jupyter-widgets/controls",
          "model_name": "HBoxModel",
          "model_module_version": "1.5.0",
          "state": {
            "_dom_classes": [],
            "_model_module": "@jupyter-widgets/controls",
            "_model_module_version": "1.5.0",
            "_model_name": "HBoxModel",
            "_view_count": null,
            "_view_module": "@jupyter-widgets/controls",
            "_view_module_version": "1.5.0",
            "_view_name": "HBoxView",
            "box_style": "",
            "children": [
              "IPY_MODEL_f8954dafb3e5407ab50f3acc1bd1ada9",
              "IPY_MODEL_e9411a283f744f4190203dac5b6c0ba7",
              "IPY_MODEL_b4ac9dcf6e4146e2a4471f842a33054b"
            ],
            "layout": "IPY_MODEL_6fda2c8128ca44158cecc6a1b7786d22"
          }
        },
        "f8954dafb3e5407ab50f3acc1bd1ada9": {
          "model_module": "@jupyter-widgets/controls",
          "model_name": "HTMLModel",
          "model_module_version": "1.5.0",
          "state": {
            "_dom_classes": [],
            "_model_module": "@jupyter-widgets/controls",
            "_model_module_version": "1.5.0",
            "_model_name": "HTMLModel",
            "_view_count": null,
            "_view_module": "@jupyter-widgets/controls",
            "_view_module_version": "1.5.0",
            "_view_name": "HTMLView",
            "description": "",
            "description_tooltip": null,
            "layout": "IPY_MODEL_52d80577bbc04646b8d22fc63296b7d0",
            "placeholder": "​",
            "style": "IPY_MODEL_6643f4907ee04ddb9d8b68852c1eb2af",
            "value": "100%"
          }
        },
        "e9411a283f744f4190203dac5b6c0ba7": {
          "model_module": "@jupyter-widgets/controls",
          "model_name": "FloatProgressModel",
          "model_module_version": "1.5.0",
          "state": {
            "_dom_classes": [],
            "_model_module": "@jupyter-widgets/controls",
            "_model_module_version": "1.5.0",
            "_model_name": "FloatProgressModel",
            "_view_count": null,
            "_view_module": "@jupyter-widgets/controls",
            "_view_module_version": "1.5.0",
            "_view_name": "ProgressView",
            "bar_style": "success",
            "description": "",
            "description_tooltip": null,
            "layout": "IPY_MODEL_008c031c28374c95985cbe5e0a1c11ad",
            "max": 63,
            "min": 0,
            "orientation": "horizontal",
            "style": "IPY_MODEL_a3aa8fa39da945378c4e0b61c766658a",
            "value": 63
          }
        },
        "b4ac9dcf6e4146e2a4471f842a33054b": {
          "model_module": "@jupyter-widgets/controls",
          "model_name": "HTMLModel",
          "model_module_version": "1.5.0",
          "state": {
            "_dom_classes": [],
            "_model_module": "@jupyter-widgets/controls",
            "_model_module_version": "1.5.0",
            "_model_name": "HTMLModel",
            "_view_count": null,
            "_view_module": "@jupyter-widgets/controls",
            "_view_module_version": "1.5.0",
            "_view_name": "HTMLView",
            "description": "",
            "description_tooltip": null,
            "layout": "IPY_MODEL_3450c7dce50d4743acef81e229a95d4a",
            "placeholder": "​",
            "style": "IPY_MODEL_028e2ba4f1fd4aa1baf66857e304297f",
            "value": " 63/63 [00:02&lt;00:00, 22.06it/s]"
          }
        },
        "6fda2c8128ca44158cecc6a1b7786d22": {
          "model_module": "@jupyter-widgets/base",
          "model_name": "LayoutModel",
          "model_module_version": "1.2.0",
          "state": {
            "_model_module": "@jupyter-widgets/base",
            "_model_module_version": "1.2.0",
            "_model_name": "LayoutModel",
            "_view_count": null,
            "_view_module": "@jupyter-widgets/base",
            "_view_module_version": "1.2.0",
            "_view_name": "LayoutView",
            "align_content": null,
            "align_items": null,
            "align_self": null,
            "border": null,
            "bottom": null,
            "display": null,
            "flex": null,
            "flex_flow": null,
            "grid_area": null,
            "grid_auto_columns": null,
            "grid_auto_flow": null,
            "grid_auto_rows": null,
            "grid_column": null,
            "grid_gap": null,
            "grid_row": null,
            "grid_template_areas": null,
            "grid_template_columns": null,
            "grid_template_rows": null,
            "height": null,
            "justify_content": null,
            "justify_items": null,
            "left": null,
            "margin": null,
            "max_height": null,
            "max_width": null,
            "min_height": null,
            "min_width": null,
            "object_fit": null,
            "object_position": null,
            "order": null,
            "overflow": null,
            "overflow_x": null,
            "overflow_y": null,
            "padding": null,
            "right": null,
            "top": null,
            "visibility": null,
            "width": null
          }
        },
        "52d80577bbc04646b8d22fc63296b7d0": {
          "model_module": "@jupyter-widgets/base",
          "model_name": "LayoutModel",
          "model_module_version": "1.2.0",
          "state": {
            "_model_module": "@jupyter-widgets/base",
            "_model_module_version": "1.2.0",
            "_model_name": "LayoutModel",
            "_view_count": null,
            "_view_module": "@jupyter-widgets/base",
            "_view_module_version": "1.2.0",
            "_view_name": "LayoutView",
            "align_content": null,
            "align_items": null,
            "align_self": null,
            "border": null,
            "bottom": null,
            "display": null,
            "flex": null,
            "flex_flow": null,
            "grid_area": null,
            "grid_auto_columns": null,
            "grid_auto_flow": null,
            "grid_auto_rows": null,
            "grid_column": null,
            "grid_gap": null,
            "grid_row": null,
            "grid_template_areas": null,
            "grid_template_columns": null,
            "grid_template_rows": null,
            "height": null,
            "justify_content": null,
            "justify_items": null,
            "left": null,
            "margin": null,
            "max_height": null,
            "max_width": null,
            "min_height": null,
            "min_width": null,
            "object_fit": null,
            "object_position": null,
            "order": null,
            "overflow": null,
            "overflow_x": null,
            "overflow_y": null,
            "padding": null,
            "right": null,
            "top": null,
            "visibility": null,
            "width": null
          }
        },
        "6643f4907ee04ddb9d8b68852c1eb2af": {
          "model_module": "@jupyter-widgets/controls",
          "model_name": "DescriptionStyleModel",
          "model_module_version": "1.5.0",
          "state": {
            "_model_module": "@jupyter-widgets/controls",
            "_model_module_version": "1.5.0",
            "_model_name": "DescriptionStyleModel",
            "_view_count": null,
            "_view_module": "@jupyter-widgets/base",
            "_view_module_version": "1.2.0",
            "_view_name": "StyleView",
            "description_width": ""
          }
        },
        "008c031c28374c95985cbe5e0a1c11ad": {
          "model_module": "@jupyter-widgets/base",
          "model_name": "LayoutModel",
          "model_module_version": "1.2.0",
          "state": {
            "_model_module": "@jupyter-widgets/base",
            "_model_module_version": "1.2.0",
            "_model_name": "LayoutModel",
            "_view_count": null,
            "_view_module": "@jupyter-widgets/base",
            "_view_module_version": "1.2.0",
            "_view_name": "LayoutView",
            "align_content": null,
            "align_items": null,
            "align_self": null,
            "border": null,
            "bottom": null,
            "display": null,
            "flex": null,
            "flex_flow": null,
            "grid_area": null,
            "grid_auto_columns": null,
            "grid_auto_flow": null,
            "grid_auto_rows": null,
            "grid_column": null,
            "grid_gap": null,
            "grid_row": null,
            "grid_template_areas": null,
            "grid_template_columns": null,
            "grid_template_rows": null,
            "height": null,
            "justify_content": null,
            "justify_items": null,
            "left": null,
            "margin": null,
            "max_height": null,
            "max_width": null,
            "min_height": null,
            "min_width": null,
            "object_fit": null,
            "object_position": null,
            "order": null,
            "overflow": null,
            "overflow_x": null,
            "overflow_y": null,
            "padding": null,
            "right": null,
            "top": null,
            "visibility": null,
            "width": null
          }
        },
        "a3aa8fa39da945378c4e0b61c766658a": {
          "model_module": "@jupyter-widgets/controls",
          "model_name": "ProgressStyleModel",
          "model_module_version": "1.5.0",
          "state": {
            "_model_module": "@jupyter-widgets/controls",
            "_model_module_version": "1.5.0",
            "_model_name": "ProgressStyleModel",
            "_view_count": null,
            "_view_module": "@jupyter-widgets/base",
            "_view_module_version": "1.2.0",
            "_view_name": "StyleView",
            "bar_color": null,
            "description_width": ""
          }
        },
        "3450c7dce50d4743acef81e229a95d4a": {
          "model_module": "@jupyter-widgets/base",
          "model_name": "LayoutModel",
          "model_module_version": "1.2.0",
          "state": {
            "_model_module": "@jupyter-widgets/base",
            "_model_module_version": "1.2.0",
            "_model_name": "LayoutModel",
            "_view_count": null,
            "_view_module": "@jupyter-widgets/base",
            "_view_module_version": "1.2.0",
            "_view_name": "LayoutView",
            "align_content": null,
            "align_items": null,
            "align_self": null,
            "border": null,
            "bottom": null,
            "display": null,
            "flex": null,
            "flex_flow": null,
            "grid_area": null,
            "grid_auto_columns": null,
            "grid_auto_flow": null,
            "grid_auto_rows": null,
            "grid_column": null,
            "grid_gap": null,
            "grid_row": null,
            "grid_template_areas": null,
            "grid_template_columns": null,
            "grid_template_rows": null,
            "height": null,
            "justify_content": null,
            "justify_items": null,
            "left": null,
            "margin": null,
            "max_height": null,
            "max_width": null,
            "min_height": null,
            "min_width": null,
            "object_fit": null,
            "object_position": null,
            "order": null,
            "overflow": null,
            "overflow_x": null,
            "overflow_y": null,
            "padding": null,
            "right": null,
            "top": null,
            "visibility": null,
            "width": null
          }
        },
        "028e2ba4f1fd4aa1baf66857e304297f": {
          "model_module": "@jupyter-widgets/controls",
          "model_name": "DescriptionStyleModel",
          "model_module_version": "1.5.0",
          "state": {
            "_model_module": "@jupyter-widgets/controls",
            "_model_module_version": "1.5.0",
            "_model_name": "DescriptionStyleModel",
            "_view_count": null,
            "_view_module": "@jupyter-widgets/base",
            "_view_module_version": "1.2.0",
            "_view_name": "StyleView",
            "description_width": ""
          }
        },
        "fad9812ceabd419eab096f81e1fe74ce": {
          "model_module": "@jupyter-widgets/controls",
          "model_name": "HBoxModel",
          "model_module_version": "1.5.0",
          "state": {
            "_dom_classes": [],
            "_model_module": "@jupyter-widgets/controls",
            "_model_module_version": "1.5.0",
            "_model_name": "HBoxModel",
            "_view_count": null,
            "_view_module": "@jupyter-widgets/controls",
            "_view_module_version": "1.5.0",
            "_view_name": "HBoxView",
            "box_style": "",
            "children": [
              "IPY_MODEL_0fb80271448947419fb268330418fa7e",
              "IPY_MODEL_ee84a45e613d4d948766da605dc150ab",
              "IPY_MODEL_39d5336b3da34abba5901d39f7980f5c"
            ],
            "layout": "IPY_MODEL_d73e69fc721e4198ad3793dbf68981fb"
          }
        },
        "0fb80271448947419fb268330418fa7e": {
          "model_module": "@jupyter-widgets/controls",
          "model_name": "HTMLModel",
          "model_module_version": "1.5.0",
          "state": {
            "_dom_classes": [],
            "_model_module": "@jupyter-widgets/controls",
            "_model_module_version": "1.5.0",
            "_model_name": "HTMLModel",
            "_view_count": null,
            "_view_module": "@jupyter-widgets/controls",
            "_view_module_version": "1.5.0",
            "_view_name": "HTMLView",
            "description": "",
            "description_tooltip": null,
            "layout": "IPY_MODEL_6118fe5aafe94d5d89076ed84d0e219c",
            "placeholder": "​",
            "style": "IPY_MODEL_d56cf5197d8540b78bf2a10933c77b97",
            "value": "100%"
          }
        },
        "ee84a45e613d4d948766da605dc150ab": {
          "model_module": "@jupyter-widgets/controls",
          "model_name": "FloatProgressModel",
          "model_module_version": "1.5.0",
          "state": {
            "_dom_classes": [],
            "_model_module": "@jupyter-widgets/controls",
            "_model_module_version": "1.5.0",
            "_model_name": "FloatProgressModel",
            "_view_count": null,
            "_view_module": "@jupyter-widgets/controls",
            "_view_module_version": "1.5.0",
            "_view_name": "ProgressView",
            "bar_style": "success",
            "description": "",
            "description_tooltip": null,
            "layout": "IPY_MODEL_30722a7311bb4b73ae35ffd025f942a1",
            "max": 63,
            "min": 0,
            "orientation": "horizontal",
            "style": "IPY_MODEL_25fcb054f16147b8a96205345ded609b",
            "value": 63
          }
        },
        "39d5336b3da34abba5901d39f7980f5c": {
          "model_module": "@jupyter-widgets/controls",
          "model_name": "HTMLModel",
          "model_module_version": "1.5.0",
          "state": {
            "_dom_classes": [],
            "_model_module": "@jupyter-widgets/controls",
            "_model_module_version": "1.5.0",
            "_model_name": "HTMLModel",
            "_view_count": null,
            "_view_module": "@jupyter-widgets/controls",
            "_view_module_version": "1.5.0",
            "_view_name": "HTMLView",
            "description": "",
            "description_tooltip": null,
            "layout": "IPY_MODEL_84029484d749494394530d356ba6aabc",
            "placeholder": "​",
            "style": "IPY_MODEL_17576b7ec5324ef080604c228b920f9a",
            "value": " 63/63 [00:02&lt;00:00, 22.00it/s]"
          }
        },
        "d73e69fc721e4198ad3793dbf68981fb": {
          "model_module": "@jupyter-widgets/base",
          "model_name": "LayoutModel",
          "model_module_version": "1.2.0",
          "state": {
            "_model_module": "@jupyter-widgets/base",
            "_model_module_version": "1.2.0",
            "_model_name": "LayoutModel",
            "_view_count": null,
            "_view_module": "@jupyter-widgets/base",
            "_view_module_version": "1.2.0",
            "_view_name": "LayoutView",
            "align_content": null,
            "align_items": null,
            "align_self": null,
            "border": null,
            "bottom": null,
            "display": null,
            "flex": null,
            "flex_flow": null,
            "grid_area": null,
            "grid_auto_columns": null,
            "grid_auto_flow": null,
            "grid_auto_rows": null,
            "grid_column": null,
            "grid_gap": null,
            "grid_row": null,
            "grid_template_areas": null,
            "grid_template_columns": null,
            "grid_template_rows": null,
            "height": null,
            "justify_content": null,
            "justify_items": null,
            "left": null,
            "margin": null,
            "max_height": null,
            "max_width": null,
            "min_height": null,
            "min_width": null,
            "object_fit": null,
            "object_position": null,
            "order": null,
            "overflow": null,
            "overflow_x": null,
            "overflow_y": null,
            "padding": null,
            "right": null,
            "top": null,
            "visibility": null,
            "width": null
          }
        },
        "6118fe5aafe94d5d89076ed84d0e219c": {
          "model_module": "@jupyter-widgets/base",
          "model_name": "LayoutModel",
          "model_module_version": "1.2.0",
          "state": {
            "_model_module": "@jupyter-widgets/base",
            "_model_module_version": "1.2.0",
            "_model_name": "LayoutModel",
            "_view_count": null,
            "_view_module": "@jupyter-widgets/base",
            "_view_module_version": "1.2.0",
            "_view_name": "LayoutView",
            "align_content": null,
            "align_items": null,
            "align_self": null,
            "border": null,
            "bottom": null,
            "display": null,
            "flex": null,
            "flex_flow": null,
            "grid_area": null,
            "grid_auto_columns": null,
            "grid_auto_flow": null,
            "grid_auto_rows": null,
            "grid_column": null,
            "grid_gap": null,
            "grid_row": null,
            "grid_template_areas": null,
            "grid_template_columns": null,
            "grid_template_rows": null,
            "height": null,
            "justify_content": null,
            "justify_items": null,
            "left": null,
            "margin": null,
            "max_height": null,
            "max_width": null,
            "min_height": null,
            "min_width": null,
            "object_fit": null,
            "object_position": null,
            "order": null,
            "overflow": null,
            "overflow_x": null,
            "overflow_y": null,
            "padding": null,
            "right": null,
            "top": null,
            "visibility": null,
            "width": null
          }
        },
        "d56cf5197d8540b78bf2a10933c77b97": {
          "model_module": "@jupyter-widgets/controls",
          "model_name": "DescriptionStyleModel",
          "model_module_version": "1.5.0",
          "state": {
            "_model_module": "@jupyter-widgets/controls",
            "_model_module_version": "1.5.0",
            "_model_name": "DescriptionStyleModel",
            "_view_count": null,
            "_view_module": "@jupyter-widgets/base",
            "_view_module_version": "1.2.0",
            "_view_name": "StyleView",
            "description_width": ""
          }
        },
        "30722a7311bb4b73ae35ffd025f942a1": {
          "model_module": "@jupyter-widgets/base",
          "model_name": "LayoutModel",
          "model_module_version": "1.2.0",
          "state": {
            "_model_module": "@jupyter-widgets/base",
            "_model_module_version": "1.2.0",
            "_model_name": "LayoutModel",
            "_view_count": null,
            "_view_module": "@jupyter-widgets/base",
            "_view_module_version": "1.2.0",
            "_view_name": "LayoutView",
            "align_content": null,
            "align_items": null,
            "align_self": null,
            "border": null,
            "bottom": null,
            "display": null,
            "flex": null,
            "flex_flow": null,
            "grid_area": null,
            "grid_auto_columns": null,
            "grid_auto_flow": null,
            "grid_auto_rows": null,
            "grid_column": null,
            "grid_gap": null,
            "grid_row": null,
            "grid_template_areas": null,
            "grid_template_columns": null,
            "grid_template_rows": null,
            "height": null,
            "justify_content": null,
            "justify_items": null,
            "left": null,
            "margin": null,
            "max_height": null,
            "max_width": null,
            "min_height": null,
            "min_width": null,
            "object_fit": null,
            "object_position": null,
            "order": null,
            "overflow": null,
            "overflow_x": null,
            "overflow_y": null,
            "padding": null,
            "right": null,
            "top": null,
            "visibility": null,
            "width": null
          }
        },
        "25fcb054f16147b8a96205345ded609b": {
          "model_module": "@jupyter-widgets/controls",
          "model_name": "ProgressStyleModel",
          "model_module_version": "1.5.0",
          "state": {
            "_model_module": "@jupyter-widgets/controls",
            "_model_module_version": "1.5.0",
            "_model_name": "ProgressStyleModel",
            "_view_count": null,
            "_view_module": "@jupyter-widgets/base",
            "_view_module_version": "1.2.0",
            "_view_name": "StyleView",
            "bar_color": null,
            "description_width": ""
          }
        },
        "84029484d749494394530d356ba6aabc": {
          "model_module": "@jupyter-widgets/base",
          "model_name": "LayoutModel",
          "model_module_version": "1.2.0",
          "state": {
            "_model_module": "@jupyter-widgets/base",
            "_model_module_version": "1.2.0",
            "_model_name": "LayoutModel",
            "_view_count": null,
            "_view_module": "@jupyter-widgets/base",
            "_view_module_version": "1.2.0",
            "_view_name": "LayoutView",
            "align_content": null,
            "align_items": null,
            "align_self": null,
            "border": null,
            "bottom": null,
            "display": null,
            "flex": null,
            "flex_flow": null,
            "grid_area": null,
            "grid_auto_columns": null,
            "grid_auto_flow": null,
            "grid_auto_rows": null,
            "grid_column": null,
            "grid_gap": null,
            "grid_row": null,
            "grid_template_areas": null,
            "grid_template_columns": null,
            "grid_template_rows": null,
            "height": null,
            "justify_content": null,
            "justify_items": null,
            "left": null,
            "margin": null,
            "max_height": null,
            "max_width": null,
            "min_height": null,
            "min_width": null,
            "object_fit": null,
            "object_position": null,
            "order": null,
            "overflow": null,
            "overflow_x": null,
            "overflow_y": null,
            "padding": null,
            "right": null,
            "top": null,
            "visibility": null,
            "width": null
          }
        },
        "17576b7ec5324ef080604c228b920f9a": {
          "model_module": "@jupyter-widgets/controls",
          "model_name": "DescriptionStyleModel",
          "model_module_version": "1.5.0",
          "state": {
            "_model_module": "@jupyter-widgets/controls",
            "_model_module_version": "1.5.0",
            "_model_name": "DescriptionStyleModel",
            "_view_count": null,
            "_view_module": "@jupyter-widgets/base",
            "_view_module_version": "1.2.0",
            "_view_name": "StyleView",
            "description_width": ""
          }
        }
      }
    }
  },
  "cells": [
    {
      "cell_type": "markdown",
      "source": [
        "# **Deep Learning HW2 - Problem 3**\n",
        "### **Ehsan Sharifian 400201529**\n",
        "\n",
        "---"
      ],
      "metadata": {
        "id": "GI5Ms_X3oUIy"
      }
    },
    {
      "cell_type": "markdown",
      "source": [
        "## **Initialization**"
      ],
      "metadata": {
        "id": "tOw2ji0zkjeC"
      }
    },
    {
      "cell_type": "code",
      "source": [
        "!pip install -q transformers\n",
        "!pip install torchmetrics"
      ],
      "metadata": {
        "colab": {
          "base_uri": "https://localhost:8080/"
        },
        "id": "tKeWrmSpkwg9",
        "outputId": "2482ccb1-f22c-4ebb-ee2b-70b890bff63d"
      },
      "execution_count": 1,
      "outputs": [
        {
          "output_type": "stream",
          "name": "stdout",
          "text": [
            "\u001b[2K     \u001b[90m━━━━━━━━━━━━━━━━━━━━━━━━━━━━━━━━━━━━━━━━\u001b[0m \u001b[32m6.3/6.3 MB\u001b[0m \u001b[31m34.9 MB/s\u001b[0m eta \u001b[36m0:00:00\u001b[0m\n",
            "\u001b[2K     \u001b[90m━━━━━━━━━━━━━━━━━━━━━━━━━━━━━━━━━━━━━━━━\u001b[0m \u001b[32m7.6/7.6 MB\u001b[0m \u001b[31m32.6 MB/s\u001b[0m eta \u001b[36m0:00:00\u001b[0m\n",
            "\u001b[2K     \u001b[90m━━━━━━━━━━━━━━━━━━━━━━━━━━━━━━━━━━━━━━━\u001b[0m \u001b[32m190.3/190.3 KB\u001b[0m \u001b[31m8.2 MB/s\u001b[0m eta \u001b[36m0:00:00\u001b[0m\n",
            "\u001b[?25hLooking in indexes: https://pypi.org/simple, https://us-python.pkg.dev/colab-wheels/public/simple/\n",
            "Collecting torchmetrics\n",
            "  Downloading torchmetrics-0.11.1-py3-none-any.whl (517 kB)\n",
            "\u001b[2K     \u001b[90m━━━━━━━━━━━━━━━━━━━━━━━━━━━━━━━━━━━━━━\u001b[0m \u001b[32m517.2/517.2 KB\u001b[0m \u001b[31m13.6 MB/s\u001b[0m eta \u001b[36m0:00:00\u001b[0m\n",
            "\u001b[?25hRequirement already satisfied: typing-extensions in /usr/local/lib/python3.8/dist-packages (from torchmetrics) (4.4.0)\n",
            "Requirement already satisfied: packaging in /usr/local/lib/python3.8/dist-packages (from torchmetrics) (23.0)\n",
            "Requirement already satisfied: numpy>=1.17.2 in /usr/local/lib/python3.8/dist-packages (from torchmetrics) (1.21.6)\n",
            "Requirement already satisfied: torch>=1.8.1 in /usr/local/lib/python3.8/dist-packages (from torchmetrics) (1.13.1+cu116)\n",
            "Installing collected packages: torchmetrics\n",
            "Successfully installed torchmetrics-0.11.1\n"
          ]
        }
      ]
    },
    {
      "cell_type": "code",
      "source": [
        "import numpy as np\n",
        "import pandas as pd\n",
        "from sklearn import metrics\n",
        "import torch\n",
        "from torch.utils.data import Dataset, DataLoader, RandomSampler, SequentialSampler\n",
        "from transformers import AutoConfig, AutoTokenizer, AutoModel\n",
        "from torchmetrics import ConfusionMatrix\n",
        "import seaborn as sns\n",
        "import matplotlib.pyplot as plt"
      ],
      "metadata": {
        "id": "V0R9SHleBfJh"
      },
      "execution_count": 2,
      "outputs": []
    },
    {
      "cell_type": "code",
      "source": [
        "config = AutoConfig.from_pretrained(\"HooshvareLab/bert-fa-base-uncased\")\n",
        "tokenizer = AutoTokenizer.from_pretrained(\"HooshvareLab/bert-fa-base-uncased\")\n",
        "ParsBERT_model = AutoModel.from_pretrained(\"HooshvareLab/bert-fa-base-uncased\")\n",
        "\n",
        "# from transformers import BertConfig, BertTokenizer, BertModel\n",
        "# config = BertConfig.from_pretrained(\"HooshvareLab/bert-fa-base-uncased-clf-persiannews\")\n",
        "# tokenizer = BertTokenizer.from_pretrained(\"HooshvareLab/bert-fa-base-uncased-clf-persiannews\")\n",
        "# ParsBERT_model = BertModel.from_pretrained(\"HooshvareLab/bert-fa-base-uncased-clf-persiannews\")"
      ],
      "metadata": {
        "colab": {
          "base_uri": "https://localhost:8080/",
          "height": 186,
          "referenced_widgets": [
            "923efafe5e1849418a1efb8c8022d563",
            "97eb3431ae1842f18150b5d2140f94bd",
            "b6a0d0af59f94064bb0ca58186feec84",
            "e3d202c8e7cd4d18bf63d966f205a876",
            "de8c5a0237964c1dbef02dd530c518a7",
            "f87d88c46b1b4ce4bff57899f6e67445",
            "656e8c0f05484bd7af8477dbb1113435",
            "0914f09cdbef48bc9182afaecd303197",
            "28e93f2c88e9477c9bf35712edf6ddf7",
            "4bd4121c4e164c9681c3dec4acf38bf2",
            "f2ebd4d7bb674c279de471a4a6d9bd95",
            "6b2e0d1fccf84a05af21f6167fc89397",
            "23fc15bbbc4e4476b16526a49148510e",
            "659cccbf73c740faa3c31e9d8595174f",
            "3ad4b03d0ca24a908d84c491f68cfd8a",
            "adb5a20280d84e96a82672bdcc1032fd",
            "b5fbb15e9ae64072a60f78b913fe0e69",
            "0e4fe86f9b8d4ecdb43dd5cb18f37b6c",
            "906e668395044301a552777a87521e34",
            "ef668bc8fec94892a4ae02deefcfa352",
            "cd79c8b594ac44cea94dbd4b96e6d134",
            "816a85824bed4871b83c9cce67c2d7b2",
            "fb8a8b71a0f640328434544ac312bbcf",
            "17abbfe73019455282bc515da13562e3",
            "35aa1f80058b46599efc2687f213483f",
            "8557a90b716241879ee4fa11e3e01c8a",
            "7a890c34239b4e28b51d347798b3baf1",
            "dc59ca7be69e457a88261aede91c880a",
            "d0db5c7b616544838a229e0732643880",
            "d560ab78730a43b3bc1e840bf27fd1ca",
            "df66ee0fcd6a41e3b5ae21a487281163",
            "6193d03262494dcb9041a175e6373aa4",
            "34b174b6bec04ab69853e925a423768b"
          ]
        },
        "id": "oLSRYJZgk3-T",
        "outputId": "f18c06d4-9990-438d-d23b-591f74615d44"
      },
      "execution_count": 3,
      "outputs": [
        {
          "output_type": "display_data",
          "data": {
            "text/plain": [
              "Downloading (…)lve/main/config.json:   0%|          | 0.00/440 [00:00<?, ?B/s]"
            ],
            "application/vnd.jupyter.widget-view+json": {
              "version_major": 2,
              "version_minor": 0,
              "model_id": "923efafe5e1849418a1efb8c8022d563"
            }
          },
          "metadata": {}
        },
        {
          "output_type": "display_data",
          "data": {
            "text/plain": [
              "Downloading (…)solve/main/vocab.txt:   0%|          | 0.00/1.20M [00:00<?, ?B/s]"
            ],
            "application/vnd.jupyter.widget-view+json": {
              "version_major": 2,
              "version_minor": 0,
              "model_id": "6b2e0d1fccf84a05af21f6167fc89397"
            }
          },
          "metadata": {}
        },
        {
          "output_type": "display_data",
          "data": {
            "text/plain": [
              "Downloading (…)\"pytorch_model.bin\";:   0%|          | 0.00/654M [00:00<?, ?B/s]"
            ],
            "application/vnd.jupyter.widget-view+json": {
              "version_major": 2,
              "version_minor": 0,
              "model_id": "fb8a8b71a0f640328434544ac312bbcf"
            }
          },
          "metadata": {}
        },
        {
          "output_type": "stream",
          "name": "stderr",
          "text": [
            "Some weights of the model checkpoint at HooshvareLab/bert-fa-base-uncased were not used when initializing BertModel: ['cls.seq_relationship.bias', 'cls.predictions.transform.dense.weight', 'cls.predictions.bias', 'cls.predictions.transform.LayerNorm.weight', 'cls.predictions.transform.dense.bias', 'cls.predictions.decoder.weight', 'cls.predictions.transform.LayerNorm.bias', 'cls.seq_relationship.weight', 'cls.predictions.decoder.bias']\n",
            "- This IS expected if you are initializing BertModel from the checkpoint of a model trained on another task or with another architecture (e.g. initializing a BertForSequenceClassification model from a BertForPreTraining model).\n",
            "- This IS NOT expected if you are initializing BertModel from the checkpoint of a model that you expect to be exactly identical (initializing a BertForSequenceClassification model from a BertForSequenceClassification model).\n"
          ]
        }
      ]
    },
    {
      "cell_type": "code",
      "source": [
        "from torch import cuda\n",
        "device = 'cuda' if cuda.is_available() else 'cpu'\n",
        "print(device)"
      ],
      "metadata": {
        "colab": {
          "base_uri": "https://localhost:8080/"
        },
        "id": "mpgapNMilA2S",
        "outputId": "e0a6c354-8004-454c-f5f9-420c166ea4cb"
      },
      "execution_count": 4,
      "outputs": [
        {
          "output_type": "stream",
          "name": "stdout",
          "text": [
            "cuda\n"
          ]
        }
      ]
    },
    {
      "cell_type": "markdown",
      "source": [
        "## **Part a**"
      ],
      "metadata": {
        "id": "MZ0KuUXioZTS"
      }
    },
    {
      "cell_type": "markdown",
      "source": [
        "### Create Dataframe"
      ],
      "metadata": {
        "id": "NvqTL1BBhARC"
      }
    },
    {
      "cell_type": "code",
      "source": [
        "! git clone https://github.com/amnghd/Persian_poems_corpus\n",
        "dir = '/content/Persian_poems_corpus/normalized/'"
      ],
      "metadata": {
        "colab": {
          "base_uri": "https://localhost:8080/"
        },
        "id": "Uyy-S8-gC23p",
        "outputId": "9629e0d5-8cae-479c-b75d-efaaaffd8c05"
      },
      "execution_count": 5,
      "outputs": [
        {
          "output_type": "stream",
          "name": "stdout",
          "text": [
            "Cloning into 'Persian_poems_corpus'...\n",
            "remote: Enumerating objects: 159, done.\u001b[K\n",
            "remote: Total 159 (delta 0), reused 0 (delta 0), pack-reused 159\u001b[K\n",
            "Receiving objects: 100% (159/159), 45.21 MiB | 13.31 MiB/s, done.\n",
            "Resolving deltas: 100% (3/3), done.\n",
            "Updating files: 100% (148/148), done.\n"
          ]
        }
      ]
    },
    {
      "cell_type": "code",
      "source": [
        "def DataFrame_Maker(poets_list, n_row):\n",
        "  list_of_dataframes = []\n",
        "  for i, poet in enumerate(poets_list):\n",
        "    df = pd.read_csv(dir + poet + '_norm.txt' , header = None, names= ['clause'])\n",
        "    df = df.groupby(df.index // n_row).agg(' '.join)\n",
        "    df['poet'] = poet\n",
        "    df['poet_index'] = i\n",
        "    list_of_dataframes.append(df)\n",
        "  return pd.concat(list_of_dataframes).reset_index(drop=True).sample(frac=1)"
      ],
      "metadata": {
        "id": "rraKpKV9GFRH"
      },
      "execution_count": 6,
      "outputs": []
    },
    {
      "cell_type": "code",
      "source": [
        "poets_list = ['bahar','ferdousi','attar','iqbal','moulavi','parvin','saadi','farrokhi','jami','saeb']\n",
        "df = DataFrame_Maker(poets_list, 2)\n",
        "print(set(df['poet']))\n",
        "df.head(10)"
      ],
      "metadata": {
        "colab": {
          "base_uri": "https://localhost:8080/",
          "height": 381
        },
        "id": "xuw2K3J_Nsnc",
        "outputId": "39d01eb2-020f-4ecc-ba71-e313dd706f25"
      },
      "execution_count": 7,
      "outputs": [
        {
          "output_type": "stream",
          "name": "stdout",
          "text": [
            "{'bahar', 'attar', 'parvin', 'moulavi', 'ferdousi', 'saeb', 'jami', 'iqbal', 'saadi', 'farrokhi'}\n"
          ]
        },
        {
          "output_type": "execute_result",
          "data": {
            "text/plain": [
              "                                                   clause      poet  \\\n",
              "54866    جز او را نخواهیم کس پادشا اگر دادگر باشد و پارسا  ferdousi   \n",
              "76326   فرید از یک شکن زنار اگر بربست من با او به سوی ...     attar   \n",
              "111547  هر آنکو طالب این کار نبود مقامش اندرین ره یار ...     attar   \n",
              "197376  عشق تو خوشی چو قصد خونریز کند جان از قفس قالب ...   moulavi   \n",
              "11640   دوم  آیین جمشید ستوده سوم  اورنگی  است ای یار ...     bahar   \n",
              "395     حق از ازل به مهر و ولای او با خلق بسته عهد موک...     bahar   \n",
              "137693     طلب میکردمت اندر جدایی که تا دریافتم از آشنایی     attar   \n",
              "2962    شاعر فحل خراسانم که در دریای نظم طبع من کشتی ف...     bahar   \n",
              "93826    نداری دل که در دلداری ما دمی دل سوزدت بر زاری ما     attar   \n",
              "173484  ولی بنوازمش با ناخن شیر که او را تار از رگهای ...     iqbal   \n",
              "\n",
              "        poet_index  \n",
              "54866            1  \n",
              "76326            2  \n",
              "111547           2  \n",
              "197376           4  \n",
              "11640            0  \n",
              "395              0  \n",
              "137693           2  \n",
              "2962             0  \n",
              "93826            2  \n",
              "173484           3  "
            ],
            "text/html": [
              "\n",
              "  <div id=\"df-fb9735b4-eb35-4540-ae11-3cdd845b5be5\">\n",
              "    <div class=\"colab-df-container\">\n",
              "      <div>\n",
              "<style scoped>\n",
              "    .dataframe tbody tr th:only-of-type {\n",
              "        vertical-align: middle;\n",
              "    }\n",
              "\n",
              "    .dataframe tbody tr th {\n",
              "        vertical-align: top;\n",
              "    }\n",
              "\n",
              "    .dataframe thead th {\n",
              "        text-align: right;\n",
              "    }\n",
              "</style>\n",
              "<table border=\"1\" class=\"dataframe\">\n",
              "  <thead>\n",
              "    <tr style=\"text-align: right;\">\n",
              "      <th></th>\n",
              "      <th>clause</th>\n",
              "      <th>poet</th>\n",
              "      <th>poet_index</th>\n",
              "    </tr>\n",
              "  </thead>\n",
              "  <tbody>\n",
              "    <tr>\n",
              "      <th>54866</th>\n",
              "      <td>جز او را نخواهیم کس پادشا اگر دادگر باشد و پارسا</td>\n",
              "      <td>ferdousi</td>\n",
              "      <td>1</td>\n",
              "    </tr>\n",
              "    <tr>\n",
              "      <th>76326</th>\n",
              "      <td>فرید از یک شکن زنار اگر بربست من با او به سوی ...</td>\n",
              "      <td>attar</td>\n",
              "      <td>2</td>\n",
              "    </tr>\n",
              "    <tr>\n",
              "      <th>111547</th>\n",
              "      <td>هر آنکو طالب این کار نبود مقامش اندرین ره یار ...</td>\n",
              "      <td>attar</td>\n",
              "      <td>2</td>\n",
              "    </tr>\n",
              "    <tr>\n",
              "      <th>197376</th>\n",
              "      <td>عشق تو خوشی چو قصد خونریز کند جان از قفس قالب ...</td>\n",
              "      <td>moulavi</td>\n",
              "      <td>4</td>\n",
              "    </tr>\n",
              "    <tr>\n",
              "      <th>11640</th>\n",
              "      <td>دوم  آیین جمشید ستوده سوم  اورنگی  است ای یار ...</td>\n",
              "      <td>bahar</td>\n",
              "      <td>0</td>\n",
              "    </tr>\n",
              "    <tr>\n",
              "      <th>395</th>\n",
              "      <td>حق از ازل به مهر و ولای او با خلق بسته عهد موک...</td>\n",
              "      <td>bahar</td>\n",
              "      <td>0</td>\n",
              "    </tr>\n",
              "    <tr>\n",
              "      <th>137693</th>\n",
              "      <td>طلب میکردمت اندر جدایی که تا دریافتم از آشنایی</td>\n",
              "      <td>attar</td>\n",
              "      <td>2</td>\n",
              "    </tr>\n",
              "    <tr>\n",
              "      <th>2962</th>\n",
              "      <td>شاعر فحل خراسانم که در دریای نظم طبع من کشتی ف...</td>\n",
              "      <td>bahar</td>\n",
              "      <td>0</td>\n",
              "    </tr>\n",
              "    <tr>\n",
              "      <th>93826</th>\n",
              "      <td>نداری دل که در دلداری ما دمی دل سوزدت بر زاری ما</td>\n",
              "      <td>attar</td>\n",
              "      <td>2</td>\n",
              "    </tr>\n",
              "    <tr>\n",
              "      <th>173484</th>\n",
              "      <td>ولی بنوازمش با ناخن شیر که او را تار از رگهای ...</td>\n",
              "      <td>iqbal</td>\n",
              "      <td>3</td>\n",
              "    </tr>\n",
              "  </tbody>\n",
              "</table>\n",
              "</div>\n",
              "      <button class=\"colab-df-convert\" onclick=\"convertToInteractive('df-fb9735b4-eb35-4540-ae11-3cdd845b5be5')\"\n",
              "              title=\"Convert this dataframe to an interactive table.\"\n",
              "              style=\"display:none;\">\n",
              "        \n",
              "  <svg xmlns=\"http://www.w3.org/2000/svg\" height=\"24px\"viewBox=\"0 0 24 24\"\n",
              "       width=\"24px\">\n",
              "    <path d=\"M0 0h24v24H0V0z\" fill=\"none\"/>\n",
              "    <path d=\"M18.56 5.44l.94 2.06.94-2.06 2.06-.94-2.06-.94-.94-2.06-.94 2.06-2.06.94zm-11 1L8.5 8.5l.94-2.06 2.06-.94-2.06-.94L8.5 2.5l-.94 2.06-2.06.94zm10 10l.94 2.06.94-2.06 2.06-.94-2.06-.94-.94-2.06-.94 2.06-2.06.94z\"/><path d=\"M17.41 7.96l-1.37-1.37c-.4-.4-.92-.59-1.43-.59-.52 0-1.04.2-1.43.59L10.3 9.45l-7.72 7.72c-.78.78-.78 2.05 0 2.83L4 21.41c.39.39.9.59 1.41.59.51 0 1.02-.2 1.41-.59l7.78-7.78 2.81-2.81c.8-.78.8-2.07 0-2.86zM5.41 20L4 18.59l7.72-7.72 1.47 1.35L5.41 20z\"/>\n",
              "  </svg>\n",
              "      </button>\n",
              "      \n",
              "  <style>\n",
              "    .colab-df-container {\n",
              "      display:flex;\n",
              "      flex-wrap:wrap;\n",
              "      gap: 12px;\n",
              "    }\n",
              "\n",
              "    .colab-df-convert {\n",
              "      background-color: #E8F0FE;\n",
              "      border: none;\n",
              "      border-radius: 50%;\n",
              "      cursor: pointer;\n",
              "      display: none;\n",
              "      fill: #1967D2;\n",
              "      height: 32px;\n",
              "      padding: 0 0 0 0;\n",
              "      width: 32px;\n",
              "    }\n",
              "\n",
              "    .colab-df-convert:hover {\n",
              "      background-color: #E2EBFA;\n",
              "      box-shadow: 0px 1px 2px rgba(60, 64, 67, 0.3), 0px 1px 3px 1px rgba(60, 64, 67, 0.15);\n",
              "      fill: #174EA6;\n",
              "    }\n",
              "\n",
              "    [theme=dark] .colab-df-convert {\n",
              "      background-color: #3B4455;\n",
              "      fill: #D2E3FC;\n",
              "    }\n",
              "\n",
              "    [theme=dark] .colab-df-convert:hover {\n",
              "      background-color: #434B5C;\n",
              "      box-shadow: 0px 1px 3px 1px rgba(0, 0, 0, 0.15);\n",
              "      filter: drop-shadow(0px 1px 2px rgba(0, 0, 0, 0.3));\n",
              "      fill: #FFFFFF;\n",
              "    }\n",
              "  </style>\n",
              "\n",
              "      <script>\n",
              "        const buttonEl =\n",
              "          document.querySelector('#df-fb9735b4-eb35-4540-ae11-3cdd845b5be5 button.colab-df-convert');\n",
              "        buttonEl.style.display =\n",
              "          google.colab.kernel.accessAllowed ? 'block' : 'none';\n",
              "\n",
              "        async function convertToInteractive(key) {\n",
              "          const element = document.querySelector('#df-fb9735b4-eb35-4540-ae11-3cdd845b5be5');\n",
              "          const dataTable =\n",
              "            await google.colab.kernel.invokeFunction('convertToInteractive',\n",
              "                                                     [key], {});\n",
              "          if (!dataTable) return;\n",
              "\n",
              "          const docLinkHtml = 'Like what you see? Visit the ' +\n",
              "            '<a target=\"_blank\" href=https://colab.research.google.com/notebooks/data_table.ipynb>data table notebook</a>'\n",
              "            + ' to learn more about interactive tables.';\n",
              "          element.innerHTML = '';\n",
              "          dataTable['output_type'] = 'display_data';\n",
              "          await google.colab.output.renderOutput(dataTable, element);\n",
              "          const docLink = document.createElement('div');\n",
              "          docLink.innerHTML = docLinkHtml;\n",
              "          element.appendChild(docLink);\n",
              "        }\n",
              "      </script>\n",
              "    </div>\n",
              "  </div>\n",
              "  "
            ]
          },
          "metadata": {},
          "execution_count": 7
        }
      ]
    },
    {
      "cell_type": "markdown",
      "source": [
        "###  Handling Unbalanced Data"
      ],
      "metadata": {
        "id": "2Vp95s12hJby"
      }
    },
    {
      "cell_type": "code",
      "source": [
        "cutting_point = 1e8\n",
        "for poet in poets_list:\n",
        "  length = len(df[df['poet'] == poet])\n",
        "  if (cutting_point > length):\n",
        "    cutting_point = length\n",
        "\n",
        "list_of_dataframes = []\n",
        "for poet in poets_list:\n",
        "  list_of_dataframes.append(df[df['poet'] == poet].sample(n=cutting_point).reset_index(drop=True))\n",
        "\n",
        "new_df = pd.concat(list_of_dataframes)\n",
        "new_df = new_df.sample(frac=1).reset_index(drop=True)\n",
        "new_df.info()"
      ],
      "metadata": {
        "colab": {
          "base_uri": "https://localhost:8080/"
        },
        "id": "hL9zwGmShMl2",
        "outputId": "6c868b93-799d-459e-b6e4-3a5048887d88"
      },
      "execution_count": 8,
      "outputs": [
        {
          "output_type": "stream",
          "name": "stdout",
          "text": [
            "<class 'pandas.core.frame.DataFrame'>\n",
            "RangeIndex: 55730 entries, 0 to 55729\n",
            "Data columns (total 3 columns):\n",
            " #   Column      Non-Null Count  Dtype \n",
            "---  ------      --------------  ----- \n",
            " 0   clause      55730 non-null  object\n",
            " 1   poet        55730 non-null  object\n",
            " 2   poet_index  55730 non-null  int64 \n",
            "dtypes: int64(1), object(2)\n",
            "memory usage: 1.3+ MB\n"
          ]
        }
      ]
    },
    {
      "cell_type": "markdown",
      "source": [
        "### Create CustomDataset"
      ],
      "metadata": {
        "id": "V_KDhUgdjXpJ"
      }
    },
    {
      "cell_type": "code",
      "source": [
        "class CustomDataset(Dataset):\n",
        "    def __init__(self, dataframe, tokenizer, max_len):\n",
        "        self.tokenizer = tokenizer\n",
        "        self.data = dataframe\n",
        "        self.clause = dataframe.clause\n",
        "        self.targets = dataframe.poet_index\n",
        "        self.max_len = max_len\n",
        "\n",
        "    def __len__(self):\n",
        "        return len(self.clause)\n",
        "\n",
        "    def __getitem__(self, index):\n",
        "        clause = str(self.clause[index])\n",
        "        clause = \" \".join(clause.split())\n",
        "\n",
        "        inputs = self.tokenizer.encode_plus(\n",
        "            clause,\n",
        "            None,\n",
        "            add_special_tokens=True,\n",
        "            max_length=self.max_len,\n",
        "            pad_to_max_length=True,\n",
        "            return_token_type_ids=True\n",
        "        )\n",
        "\n",
        "        return {\n",
        "            'ids': torch.tensor(inputs['input_ids'], dtype=torch.long),\n",
        "            'mask': torch.tensor(inputs['attention_mask'], dtype=torch.long),\n",
        "            'token_type_ids': torch.tensor(inputs['token_type_ids'], dtype=torch.long),\n",
        "            'targets': torch.tensor(self.targets[index])\n",
        "        }"
      ],
      "metadata": {
        "id": "R61ubS_NBdva"
      },
      "execution_count": 9,
      "outputs": []
    },
    {
      "cell_type": "code",
      "source": [
        "ratio_1 = 0.8\n",
        "ratio_2 = 0.9\n",
        "MAX_LENGTH = 40\n",
        "\n",
        "train_df_temp = new_df.sample(frac=ratio_1)\n",
        "test_df = new_df.drop(train_df_temp.index).reset_index(drop=True)\n",
        "train_df_temp = train_df_temp.reset_index(drop=True)\n",
        "train_df = train_df_temp.sample(frac=ratio_2)\n",
        "validation_df = train_df_temp.drop(train_df.index).reset_index(drop=True)\n",
        "train_df = train_df.reset_index(drop=True)\n",
        "\n",
        "print(f\"FULL Dataset: {new_df.shape}\")\n",
        "print(f\"TRAIN Dataset: {train_df.shape}\")\n",
        "print(f\"VALIDATION Dataset: {validation_df.shape}\")\n",
        "print(f\"TEST Dataset: {test_df.shape}\")\n",
        "\n",
        "training_set = CustomDataset(train_df, tokenizer, MAX_LENGTH)\n",
        "validation_set = CustomDataset(validation_df, tokenizer, MAX_LENGTH)\n",
        "testing_set = CustomDataset(test_df, tokenizer, MAX_LENGTH)"
      ],
      "metadata": {
        "colab": {
          "base_uri": "https://localhost:8080/"
        },
        "id": "g6l0rAwwlixZ",
        "outputId": "29f5564f-e173-4a8f-a9a4-207be7f2a05f"
      },
      "execution_count": 10,
      "outputs": [
        {
          "output_type": "stream",
          "name": "stdout",
          "text": [
            "FULL Dataset: (55730, 3)\n",
            "TRAIN Dataset: (40126, 3)\n",
            "VALIDATION Dataset: (4458, 3)\n",
            "TEST Dataset: (11146, 3)\n"
          ]
        }
      ]
    },
    {
      "cell_type": "markdown",
      "source": [
        "### Create DataLoader\n"
      ],
      "metadata": {
        "id": "Yxpg5ztOmtAw"
      }
    },
    {
      "cell_type": "code",
      "source": [
        "TRAIN_BATCH_SIZE = 100\n",
        "VALID_BATCH_SIZE = 100\n",
        "TEST_BATCH_SIZE = 100\n",
        "\n",
        "training_loader = DataLoader(training_set, batch_size=TRAIN_BATCH_SIZE, shuffle=True)\n",
        "validation_loader = DataLoader(validation_set, batch_size=VALID_BATCH_SIZE, shuffle=True)\n",
        "test_loader = DataLoader(testing_set, batch_size=TEST_BATCH_SIZE, shuffle=True)"
      ],
      "metadata": {
        "id": "m5GJa6EqmxPH"
      },
      "execution_count": 11,
      "outputs": []
    },
    {
      "cell_type": "markdown",
      "source": [
        "### Create Model\n"
      ],
      "metadata": {
        "id": "fnkkdFHtsG8f"
      }
    },
    {
      "cell_type": "code",
      "source": [
        "class NeuralNetwork(torch.nn.Module):\n",
        "    def __init__(self, base_model):\n",
        "        super(NeuralNetwork, self).__init__()\n",
        "        self.l1 = base_model\n",
        "        self.l2 = torch.nn.Sequential(\n",
        "                                  torch.nn.Dropout(0.5),\n",
        "                                  torch.nn.Linear(768, 10),\n",
        "        )\n",
        "        \n",
        "    \n",
        "    def forward(self, ids, mask, token_type_ids):\n",
        "        output_1= self.l1(input_ids = ids, attention_mask = mask, token_type_ids = token_type_ids)\n",
        "        output = self.l2(output_1['pooler_output'])\n",
        "        return output\n",
        "\n",
        "    def freeze_all_but_last(self):\n",
        "        for n, p in self.named_parameters():\n",
        "          if ('l2' in n):\n",
        "              pass\n",
        "          else:\n",
        "              p.requires_grad = False\n",
        "\n",
        "    def train_all(self):\n",
        "        for p in self.parameters():\n",
        "            p.requires_grad = True"
      ],
      "metadata": {
        "id": "0ZOFtpU8sKuR"
      },
      "execution_count": 12,
      "outputs": []
    },
    {
      "cell_type": "markdown",
      "source": [
        "### Create Optimizer"
      ],
      "metadata": {
        "id": "1LNu4KPmvIIp"
      }
    },
    {
      "cell_type": "code",
      "source": [
        "class nn_optimizer():\n",
        "    def __init__(self, model, train_dataloader, validation_dataloader, test_dataloader, optimizer, loss_fn, epochs, scheduler):\n",
        "      self.model = model\n",
        "      self.train_dataloader = train_dataloader\n",
        "      self.validation_dataloader = validation_dataloader\n",
        "      self.test_dataloader = test_dataloader\n",
        "      self.optimizer = optimizer\n",
        "      self.loss_fn = loss_fn\n",
        "      self.epochs = epochs\n",
        "      self.scheduler = scheduler\n",
        "      self.confusion_matrix = ConfusionMatrix(task=\"multiclass\", num_classes=10).to(device)\n",
        "\n",
        "    def train_loop(self):\n",
        "      self.model.train()\n",
        "      size = len(self.train_dataloader.dataset)\n",
        "      for batch, dictionary in enumerate(self.train_dataloader):\n",
        "          ids = dictionary['ids'].to(device)\n",
        "          mask = dictionary['mask'].to(device)\n",
        "          token_type_ids = dictionary['token_type_ids'].to(device)\n",
        "          targets = dictionary['targets'].to(device)\n",
        "\n",
        "          # Compute prediction and loss\n",
        "          pred = self.model(ids, mask, token_type_ids)\n",
        "          loss = self.loss_fn(pred, targets)\n",
        "\n",
        "          # Backpropagation\n",
        "          self.optimizer.zero_grad()\n",
        "          loss.backward()\n",
        "          self.optimizer.step()\n",
        "          if (self.scheduler):\n",
        "            self.scheduler.step()\n",
        "\n",
        "          if batch % 100 == 0:\n",
        "              loss, current = loss.item(), batch * len(ids)\n",
        "              print(f\"loss: {loss:>7f}  [{current:>5d}/{size:>5d}]\")\n",
        "\n",
        "\n",
        "    def test_loop(self, name):\n",
        "        if (name == 'train'):\n",
        "          dataloader = self.train_dataloader\n",
        "        elif (name == 'test'):\n",
        "          dataloader = self.test_dataloader\n",
        "        elif (name == 'validation'):\n",
        "          dataloader = self.validation_dataloader\n",
        "        self.model.eval()\n",
        "        size = len(dataloader.dataset)\n",
        "        num_batches = len(dataloader)\n",
        "        test_loss, correct = 0, 0\n",
        "        confusion_matrix = torch.zeros((10, 10), dtype=int).to(device)\n",
        "\n",
        "        with torch.no_grad():\n",
        "            for dictionary in dataloader:\n",
        "                ids = dictionary['ids'].to(device)\n",
        "                mask = dictionary['mask'].to(device)\n",
        "                token_type_ids = dictionary['token_type_ids'].to(device)\n",
        "                targets = dictionary['targets'].to(device)\n",
        "\n",
        "                pred = self.model(ids, mask, token_type_ids)\n",
        "                test_loss += self.loss_fn(pred, targets).item()\n",
        "                correct += (pred.argmax(1) == targets).type(torch.float).sum().item()\n",
        "                confusion_matrix += self.confusion_matrix(targets , pred.argmax(1))\n",
        "\n",
        "        test_loss /= num_batches\n",
        "        correct /= size\n",
        "        TP = torch.diag(confusion_matrix)\n",
        "        FP = torch.sum(confusion_matrix, axis=0) - TP\n",
        "        FN = torch.sum(confusion_matrix, axis=1) - TP\n",
        "        precision = (torch.sum(TP)/(torch.sum(TP)+torch.sum(FP))).item()\n",
        "        recall = (torch.sum(TP)/(torch.sum(TP)+torch.sum(FN))).item()\n",
        "        micro_f1_score = (2*precision*recall)/(precision+recall)\n",
        "        print(f\"{name} Accuracy: {(100*correct):>0.1f}%, {name} Avg loss: {test_loss:>8f}\")\n",
        "        return correct, test_loss, micro_f1_score, confusion_matrix\n",
        "\n",
        "    def fit(self):\n",
        "        for t in range(self.epochs):\n",
        "          print(f\"Epoch {t+1}\\n-------------------------------------\")\n",
        "          self.train_loop()\n",
        "          self.test_loop('train')\n",
        "          self.test_loop('validation')\n",
        "          print('\\n')\n",
        "        print(\"Done!\")"
      ],
      "metadata": {
        "id": "tj0tsvb4u8YC"
      },
      "execution_count": 13,
      "outputs": []
    },
    {
      "cell_type": "markdown",
      "source": [
        "### fit the model"
      ],
      "metadata": {
        "id": "EHiejmzTzK0g"
      }
    },
    {
      "cell_type": "code",
      "source": [
        "from transformers import AdamW\n",
        "from transformers import get_linear_schedule_with_warmup\n",
        "\n",
        "model = NeuralNetwork(ParsBERT_model)\n",
        "model.freeze_all_but_last()\n",
        "model.to(device)\n",
        "\n",
        "EPOCHS = 20\n",
        "LEARNING_RATE = 4e-4\n",
        "total_steps = len(training_loader) * EPOCHS\n",
        "optimizer = AdamW(model.parameters(), lr=LEARNING_RATE, correct_bias=False)\n",
        "scheduler = get_linear_schedule_with_warmup(\n",
        "    optimizer,\n",
        "    num_warmup_steps=5,\n",
        "    num_training_steps=total_steps\n",
        ")\n",
        "loss_fn = torch.nn.CrossEntropyLoss()\n",
        "\n",
        "# EPOCHS = 10\n",
        "# LEARNING_RATE = 1e-4\n",
        "# loss_fn = torch.nn.CrossEntropyLoss()\n",
        "# optimizer = torch.optim.Adam(params =  model.parameters(), lr=LEARNING_RATE)\n",
        "\n",
        "optimizer = nn_optimizer(model, training_loader, validation_loader, test_loader, optimizer, loss_fn, EPOCHS, scheduler)\n",
        "optimizer.fit()"
      ],
      "metadata": {
        "id": "J1WBEMrtzMeY",
        "colab": {
          "base_uri": "https://localhost:8080/"
        },
        "outputId": "2a8cd9f8-243d-4674-a1c1-de3fb7b7e1e4"
      },
      "execution_count": null,
      "outputs": [
        {
          "output_type": "stream",
          "name": "stderr",
          "text": [
            "/usr/local/lib/python3.8/dist-packages/transformers/optimization.py:306: FutureWarning: This implementation of AdamW is deprecated and will be removed in a future version. Use the PyTorch implementation torch.optim.AdamW instead, or set `no_deprecation_warning=True` to disable this warning\n",
            "  warnings.warn(\n"
          ]
        },
        {
          "output_type": "stream",
          "name": "stdout",
          "text": [
            "Epoch 1\n",
            "-------------------------------------\n",
            "loss: 2.373730  [    0/40126]\n",
            "loss: 2.166950  [10000/40126]\n",
            "loss: 2.153939  [20000/40126]\n",
            "loss: 2.069481  [30000/40126]\n",
            "loss: 2.075620  [40000/40126]\n",
            "train Accuracy: 32.6%, train Avg loss: 1.955157\n",
            "validation Accuracy: 32.6%, validation Avg loss: 1.947716\n",
            "\n",
            "\n",
            "Epoch 2\n",
            "-------------------------------------\n",
            "loss: 1.994798  [    0/40126]\n",
            "loss: 2.118722  [10000/40126]\n",
            "loss: 1.946833  [20000/40126]\n",
            "loss: 2.098224  [30000/40126]\n",
            "loss: 1.916010  [40000/40126]\n",
            "train Accuracy: 33.8%, train Avg loss: 1.924065\n",
            "validation Accuracy: 34.1%, validation Avg loss: 1.919049\n",
            "\n",
            "\n",
            "Epoch 3\n",
            "-------------------------------------\n",
            "loss: 2.009465  [    0/40126]\n",
            "loss: 2.008317  [10000/40126]\n",
            "loss: 1.968317  [20000/40126]\n",
            "loss: 1.949189  [30000/40126]\n",
            "loss: 2.024316  [40000/40126]\n",
            "train Accuracy: 34.1%, train Avg loss: 1.907221\n",
            "validation Accuracy: 35.0%, validation Avg loss: 1.899113\n",
            "\n",
            "\n",
            "Epoch 4\n",
            "-------------------------------------\n",
            "loss: 2.164096  [    0/40126]\n",
            "loss: 1.912059  [10000/40126]\n",
            "loss: 1.976403  [20000/40126]\n",
            "loss: 2.047524  [30000/40126]\n",
            "loss: 1.998797  [40000/40126]\n",
            "train Accuracy: 34.8%, train Avg loss: 1.896324\n",
            "validation Accuracy: 35.6%, validation Avg loss: 1.888092\n",
            "\n",
            "\n",
            "Epoch 5\n",
            "-------------------------------------\n",
            "loss: 2.035759  [    0/40126]\n",
            "loss: 2.007022  [10000/40126]\n",
            "loss: 2.089174  [20000/40126]\n",
            "loss: 1.970147  [30000/40126]\n",
            "loss: 1.768422  [40000/40126]\n",
            "train Accuracy: 34.7%, train Avg loss: 1.893555\n",
            "validation Accuracy: 35.6%, validation Avg loss: 1.882806\n",
            "\n",
            "\n",
            "Epoch 6\n",
            "-------------------------------------\n",
            "loss: 2.041904  [    0/40126]\n",
            "loss: 2.024750  [10000/40126]\n",
            "loss: 2.017246  [20000/40126]\n",
            "loss: 2.045107  [30000/40126]\n",
            "loss: 1.927594  [40000/40126]\n",
            "train Accuracy: 35.6%, train Avg loss: 1.884037\n",
            "validation Accuracy: 35.9%, validation Avg loss: 1.880056\n",
            "\n",
            "\n",
            "Epoch 7\n",
            "-------------------------------------\n",
            "loss: 1.947528  [    0/40126]\n",
            "loss: 2.057483  [10000/40126]\n",
            "loss: 2.072267  [20000/40126]\n",
            "loss: 1.968839  [30000/40126]\n",
            "loss: 2.061222  [40000/40126]\n",
            "train Accuracy: 35.3%, train Avg loss: 1.882458\n",
            "validation Accuracy: 36.4%, validation Avg loss: 1.876195\n",
            "\n",
            "\n",
            "Epoch 8\n",
            "-------------------------------------\n",
            "loss: 2.017826  [    0/40126]\n",
            "loss: 2.011687  [10000/40126]\n",
            "loss: 2.127975  [20000/40126]\n",
            "loss: 2.009106  [30000/40126]\n",
            "loss: 1.949654  [40000/40126]\n",
            "train Accuracy: 35.7%, train Avg loss: 1.877393\n",
            "validation Accuracy: 36.5%, validation Avg loss: 1.868542\n",
            "\n",
            "\n",
            "Epoch 9\n",
            "-------------------------------------\n",
            "loss: 2.121307  [    0/40126]\n",
            "loss: 1.957994  [10000/40126]\n",
            "loss: 1.860443  [20000/40126]\n",
            "loss: 2.085780  [30000/40126]\n",
            "loss: 2.042681  [40000/40126]\n",
            "train Accuracy: 35.5%, train Avg loss: 1.877460\n",
            "validation Accuracy: 36.2%, validation Avg loss: 1.870990\n",
            "\n",
            "\n",
            "Epoch 10\n",
            "-------------------------------------\n",
            "loss: 1.970003  [    0/40126]\n",
            "loss: 2.104259  [10000/40126]\n",
            "loss: 2.023405  [20000/40126]\n",
            "loss: 1.978678  [30000/40126]\n",
            "loss: 1.888319  [40000/40126]\n",
            "train Accuracy: 35.3%, train Avg loss: 1.877264\n",
            "validation Accuracy: 36.4%, validation Avg loss: 1.871433\n",
            "\n",
            "\n",
            "Epoch 11\n",
            "-------------------------------------\n",
            "loss: 1.945696  [    0/40126]\n",
            "loss: 2.059812  [10000/40126]\n",
            "loss: 2.131675  [20000/40126]\n",
            "loss: 2.041507  [30000/40126]\n",
            "loss: 2.027868  [40000/40126]\n",
            "train Accuracy: 36.1%, train Avg loss: 1.869161\n",
            "validation Accuracy: 36.9%, validation Avg loss: 1.860870\n",
            "\n",
            "\n",
            "Epoch 12\n",
            "-------------------------------------\n",
            "loss: 2.000968  [    0/40126]\n",
            "loss: 2.017795  [10000/40126]\n",
            "loss: 1.977936  [20000/40126]\n",
            "loss: 1.883207  [30000/40126]\n",
            "loss: 1.881605  [40000/40126]\n",
            "train Accuracy: 36.1%, train Avg loss: 1.869557\n",
            "validation Accuracy: 36.7%, validation Avg loss: 1.862980\n",
            "\n",
            "\n",
            "Epoch 13\n",
            "-------------------------------------\n",
            "loss: 2.019499  [    0/40126]\n",
            "loss: 2.019976  [10000/40126]\n",
            "loss: 2.003693  [20000/40126]\n",
            "loss: 2.007853  [30000/40126]\n",
            "loss: 1.961120  [40000/40126]\n",
            "train Accuracy: 36.3%, train Avg loss: 1.865727\n",
            "validation Accuracy: 36.8%, validation Avg loss: 1.857881\n",
            "\n",
            "\n",
            "Epoch 14\n",
            "-------------------------------------\n",
            "loss: 2.004617  [    0/40126]\n",
            "loss: 1.946691  [10000/40126]\n",
            "loss: 2.018138  [20000/40126]\n",
            "loss: 2.151533  [30000/40126]\n",
            "loss: 2.224358  [40000/40126]\n",
            "train Accuracy: 36.2%, train Avg loss: 1.866534\n",
            "validation Accuracy: 37.7%, validation Avg loss: 1.859096\n",
            "\n",
            "\n",
            "Epoch 15\n",
            "-------------------------------------\n",
            "loss: 2.051358  [    0/40126]\n",
            "loss: 1.843934  [10000/40126]\n",
            "loss: 2.015972  [20000/40126]\n",
            "loss: 2.069316  [30000/40126]\n",
            "loss: 1.856117  [40000/40126]\n",
            "train Accuracy: 36.4%, train Avg loss: 1.863286\n",
            "validation Accuracy: 37.1%, validation Avg loss: 1.857978\n",
            "\n",
            "\n",
            "Epoch 16\n",
            "-------------------------------------\n",
            "loss: 1.969103  [    0/40126]\n",
            "loss: 2.018408  [10000/40126]\n",
            "loss: 2.039335  [20000/40126]\n",
            "loss: 1.974903  [30000/40126]\n",
            "loss: 2.167121  [40000/40126]\n",
            "train Accuracy: 36.4%, train Avg loss: 1.863156\n",
            "validation Accuracy: 37.3%, validation Avg loss: 1.854271\n",
            "\n",
            "\n",
            "Epoch 17\n",
            "-------------------------------------\n",
            "loss: 1.977848  [    0/40126]\n",
            "loss: 2.056964  [10000/40126]\n",
            "loss: 2.009722  [20000/40126]\n",
            "loss: 1.963148  [30000/40126]\n",
            "loss: 1.973609  [40000/40126]\n",
            "train Accuracy: 36.2%, train Avg loss: 1.863486\n",
            "validation Accuracy: 37.2%, validation Avg loss: 1.856058\n",
            "\n",
            "\n",
            "Epoch 18\n",
            "-------------------------------------\n",
            "loss: 1.902795  [    0/40126]\n",
            "loss: 1.955281  [10000/40126]\n",
            "loss: 1.977712  [20000/40126]\n",
            "loss: 2.010706  [30000/40126]\n",
            "loss: 1.991162  [40000/40126]\n",
            "train Accuracy: 36.3%, train Avg loss: 1.863121\n",
            "validation Accuracy: 37.2%, validation Avg loss: 1.853584\n",
            "\n",
            "\n",
            "Epoch 19\n",
            "-------------------------------------\n",
            "loss: 2.012522  [    0/40126]\n",
            "loss: 1.812595  [10000/40126]\n",
            "loss: 1.873672  [20000/40126]\n",
            "loss: 2.056562  [30000/40126]\n",
            "loss: 2.103318  [40000/40126]\n",
            "train Accuracy: 36.4%, train Avg loss: 1.862246\n",
            "validation Accuracy: 37.5%, validation Avg loss: 1.855172\n",
            "\n",
            "\n",
            "Epoch 20\n",
            "-------------------------------------\n",
            "loss: 1.977579  [    0/40126]\n",
            "loss: 1.966919  [10000/40126]\n",
            "loss: 2.041632  [20000/40126]\n",
            "loss: 2.030535  [30000/40126]\n",
            "loss: 1.904146  [40000/40126]\n",
            "train Accuracy: 36.3%, train Avg loss: 1.862547\n",
            "validation Accuracy: 37.4%, validation Avg loss: 1.854120\n",
            "\n",
            "\n",
            "Done!\n"
          ]
        }
      ]
    },
    {
      "cell_type": "markdown",
      "source": [
        "### accuracy, loss, f1 score, and confusion matrix"
      ],
      "metadata": {
        "id": "0IulxBZhlSrq"
      }
    },
    {
      "cell_type": "code",
      "source": [
        "correct, test_loss, micro_f1_score, confusion_matrix = optimizer.test_loop('test')\n",
        "print(f\"test micro_f1 score: {micro_f1_score:>0.4f}\")\n",
        "plt.figure(figsize=(10, 8), dpi = 100)\n",
        "confusion_matrix = confusion_matrix.detach().to('cpu').numpy()\n",
        "sns.heatmap(confusion_matrix/np.sum(confusion_matrix), annot= True, fmt='.2%', cmap=plt.cm.Blues);\n",
        "plt.show()"
      ],
      "metadata": {
        "colab": {
          "base_uri": "https://localhost:8080/",
          "height": 700
        },
        "id": "uFftlgQGWtwu",
        "outputId": "651a2773-e851-442b-acf7-04e7e8c1073b"
      },
      "execution_count": null,
      "outputs": [
        {
          "output_type": "stream",
          "name": "stdout",
          "text": [
            "test Accuracy: 35.7%, test Avg loss: 1.879794\n",
            "test micro_f1 score: 0.3574\n"
          ]
        },
        {
          "output_type": "display_data",
          "data": {
            "text/plain": [
              "<Figure size 1000x800 with 2 Axes>"
            ],
            "image/png": "[encoded data removed]"
          },
          "metadata": {
            "needs_background": "light"
          }
        }
      ]
    },
    {
      "cell_type": "markdown",
      "source": [
        "## **Part b**\n"
      ],
      "metadata": {
        "id": "U3ObYX-0rSfM"
      }
    },
    {
      "cell_type": "markdown",
      "source": [
        "### Adam: fit the model"
      ],
      "metadata": {
        "id": "QVrqRORTmRUT"
      }
    },
    {
      "cell_type": "code",
      "source": [
        "ParsBERT_model_2 = AutoModel.from_pretrained(\"HooshvareLab/bert-fa-base-uncased\")\n",
        "model_2 = NeuralNetwork(ParsBERT_model_2)\n",
        "model_2.train_all()\n",
        "model_2.to(device)\n",
        "\n",
        "# EPOCHS_2 = 7\n",
        "# LEARNING_RATE_2 = 4e-4\n",
        "# total_steps = len(training_loader) * EPOCHS_2\n",
        "# optimizer_2 = AdamW(model_2.parameters(), lr=LEARNING_RATE_2, correct_bias=False)\n",
        "# scheduler_2 = get_linear_schedule_with_warmup(\n",
        "#     optimizer_2,\n",
        "#     num_warmup_steps=5,\n",
        "#     num_training_steps=total_steps\n",
        "# )\n",
        "# loss_fn_2 = torch.nn.CrossEntropyLoss()\n",
        "\n",
        "EPOCHS_2 = 8\n",
        "LEARNING_RATE_2 = 1e-5\n",
        "loss_fn_2 = torch.nn.CrossEntropyLoss()\n",
        "optimizer_2 = torch.optim.Adam(params =  model_2.parameters(), lr=LEARNING_RATE_2)\n",
        "\n",
        "optimizer_2 = nn_optimizer(model_2, training_loader, validation_loader, test_loader, optimizer_2, loss_fn_2, EPOCHS_2, scheduler=None)\n",
        "optimizer_2.fit()"
      ],
      "metadata": {
        "colab": {
          "base_uri": "https://localhost:8080/"
        },
        "id": "eLeYApCqrUsn",
        "outputId": "f4928f46-a371-4d61-d7ff-e640b55b8cfd"
      },
      "execution_count": 14,
      "outputs": [
        {
          "metadata": {
            "tags": null
          },
          "name": "stderr",
          "output_type": "stream",
          "text": [
            "Some weights of the model checkpoint at HooshvareLab/bert-fa-base-uncased were not used when initializing BertModel: ['cls.seq_relationship.bias', 'cls.predictions.transform.dense.weight', 'cls.predictions.bias', 'cls.predictions.transform.LayerNorm.weight', 'cls.predictions.transform.dense.bias', 'cls.predictions.decoder.weight', 'cls.predictions.transform.LayerNorm.bias', 'cls.seq_relationship.weight', 'cls.predictions.decoder.bias']\n",
            "- This IS expected if you are initializing BertModel from the checkpoint of a model trained on another task or with another architecture (e.g. initializing a BertForSequenceClassification model from a BertForPreTraining model).\n",
            "- This IS NOT expected if you are initializing BertModel from the checkpoint of a model that you expect to be exactly identical (initializing a BertForSequenceClassification model from a BertForSequenceClassification model).\n",
            "Truncation was not explicitly activated but `max_length` is provided a specific value, please use `truncation=True` to explicitly truncate examples to max length. Defaulting to 'longest_first' truncation strategy. If you encode pairs of sequences (GLUE-style) with the tokenizer you can select this strategy more precisely by providing a specific strategy to `truncation`.\n"
          ]
        },
        {
          "metadata": {
            "tags": null
          },
          "name": "stdout",
          "output_type": "stream",
          "text": [
            "Epoch 1\n",
            "-------------------------------------\n"
          ]
        },
        {
          "metadata": {
            "tags": null
          },
          "name": "stderr",
          "output_type": "stream",
          "text": [
            "/usr/local/lib/python3.8/dist-packages/transformers/tokenization_utils_base.py:2339: FutureWarning: The `pad_to_max_length` argument is deprecated and will be removed in a future version, use `padding=True` or `padding='longest'` to pad to the longest sequence in the batch, or use `padding='max_length'` to pad to a max length. In this case, you can give a specific length with `max_length` (e.g. `max_length=45`) or leave max_length to None to pad to the maximal input size of the model (e.g. 512 for Bert).\n",
            "  warnings.warn(\n"
          ]
        },
        {
          "output_type": "stream",
          "name": "stdout",
          "text": [
            "loss: 2.385208  [    0/40126]\n",
            "loss: 2.035453  [10000/40126]\n",
            "loss: 1.808956  [20000/40126]\n",
            "loss: 1.649569  [30000/40126]\n",
            "loss: 1.516173  [40000/40126]\n",
            "train Accuracy: 53.7%, train Avg loss: 1.376968\n",
            "validation Accuracy: 50.4%, validation Avg loss: 1.453461\n",
            "\n",
            "\n",
            "Epoch 2\n",
            "-------------------------------------\n",
            "loss: 1.491051  [    0/40126]\n",
            "loss: 1.382239  [10000/40126]\n",
            "loss: 1.227723  [20000/40126]\n",
            "loss: 1.159108  [30000/40126]\n",
            "loss: 1.107426  [40000/40126]\n",
            "train Accuracy: 67.8%, train Avg loss: 0.977067\n",
            "validation Accuracy: 59.0%, validation Avg loss: 1.205149\n",
            "\n",
            "\n",
            "Epoch 3\n",
            "-------------------------------------\n",
            "loss: 1.264256  [    0/40126]\n",
            "loss: 1.282308  [10000/40126]\n",
            "loss: 0.994332  [20000/40126]\n",
            "loss: 0.843767  [30000/40126]\n",
            "loss: 1.049709  [40000/40126]\n",
            "train Accuracy: 77.5%, train Avg loss: 0.711933\n",
            "validation Accuracy: 63.9%, validation Avg loss: 1.089790\n",
            "\n",
            "\n",
            "Epoch 4\n",
            "-------------------------------------\n",
            "loss: 0.722371  [    0/40126]\n",
            "loss: 0.848368  [10000/40126]\n",
            "loss: 0.702324  [20000/40126]\n",
            "loss: 0.831800  [30000/40126]\n",
            "loss: 0.634785  [40000/40126]\n",
            "train Accuracy: 84.7%, train Avg loss: 0.502154\n",
            "validation Accuracy: 65.6%, validation Avg loss: 1.047443\n",
            "\n",
            "\n",
            "Epoch 5\n",
            "-------------------------------------\n",
            "loss: 0.627294  [    0/40126]\n",
            "loss: 0.544701  [10000/40126]\n",
            "loss: 0.595347  [20000/40126]\n",
            "loss: 0.637758  [30000/40126]\n",
            "loss: 0.607998  [40000/40126]\n",
            "train Accuracy: 89.7%, train Avg loss: 0.350346\n",
            "validation Accuracy: 65.3%, validation Avg loss: 1.067002\n",
            "\n",
            "\n",
            "Epoch 6\n",
            "-------------------------------------\n",
            "loss: 0.467196  [    0/40126]\n",
            "loss: 0.555479  [10000/40126]\n",
            "loss: 0.522680  [20000/40126]\n",
            "loss: 0.503671  [30000/40126]\n",
            "loss: 0.430600  [40000/40126]\n",
            "train Accuracy: 93.9%, train Avg loss: 0.221459\n",
            "validation Accuracy: 67.6%, validation Avg loss: 1.092814\n",
            "\n",
            "\n",
            "Epoch 7\n",
            "-------------------------------------\n",
            "loss: 0.372045  [    0/40126]\n",
            "loss: 0.224321  [10000/40126]\n",
            "loss: 0.311159  [20000/40126]\n",
            "loss: 0.398354  [30000/40126]\n",
            "loss: 0.453529  [40000/40126]\n",
            "train Accuracy: 96.8%, train Avg loss: 0.127151\n",
            "validation Accuracy: 67.5%, validation Avg loss: 1.134079\n",
            "\n",
            "\n",
            "Epoch 8\n",
            "-------------------------------------\n",
            "loss: 0.227405  [    0/40126]\n",
            "loss: 0.183704  [10000/40126]\n",
            "loss: 0.410506  [20000/40126]\n",
            "loss: 0.191807  [30000/40126]\n",
            "loss: 0.416614  [40000/40126]\n",
            "train Accuracy: 98.3%, train Avg loss: 0.073118\n",
            "validation Accuracy: 67.0%, validation Avg loss: 1.193564\n",
            "\n",
            "\n",
            "Done!\n"
          ]
        }
      ]
    },
    {
      "cell_type": "markdown",
      "source": [
        "### Adam: accuracy, loss, f1 score, and confusion matrix"
      ],
      "metadata": {
        "id": "bbnVnrgpmX7_"
      }
    },
    {
      "cell_type": "code",
      "source": [
        "correct, test_loss, micro_f1_score, confusion_matrix = optimizer_2.test_loop('test')\n",
        "print(f\"test micro_f1 score: {micro_f1_score:>0.4f}\")\n",
        "plt.figure(figsize=(10, 8), dpi = 100)\n",
        "confusion_matrix = confusion_matrix.detach().to('cpu').numpy()\n",
        "sns.heatmap(confusion_matrix/np.sum(confusion_matrix), annot= True, fmt='.2%', cmap=plt.cm.Blues);\n",
        "plt.show()"
      ],
      "metadata": {
        "colab": {
          "base_uri": "https://localhost:8080/",
          "height": 700
        },
        "id": "qC_6Rpx7lKHO",
        "outputId": "b717c1a1-9858-4308-803b-58b31eefb2a5"
      },
      "execution_count": 15,
      "outputs": [
        {
          "output_type": "stream",
          "name": "stdout",
          "text": [
            "test Accuracy: 68.4%, test Avg loss: 1.169170\n",
            "test micro_f1 score: 0.6837\n"
          ]
        },
        {
          "output_type": "display_data",
          "data": {
            "text/plain": [
              "<Figure size 1000x800 with 2 Axes>"
            ],
            "image/png": "[encoded data removed]"
          },
          "metadata": {
            "needs_background": "light"
          }
        }
      ]
    },
    {
      "cell_type": "markdown",
      "source": [
        "### SGD: fit the model"
      ],
      "metadata": {
        "id": "xQbC_tolm6lM"
      }
    },
    {
      "cell_type": "code",
      "source": [
        "ParsBERT_model_3 = AutoModel.from_pretrained(\"HooshvareLab/bert-fa-base-uncased\")\n",
        "model_3 = NeuralNetwork(ParsBERT_model_3)\n",
        "model_3.train_all()\n",
        "model_3.to(device)\n",
        "\n",
        "# EPOCHS_3 = 7\n",
        "# LEARNING_RATE_3 = 4e-4\n",
        "# total_steps = len(training_loader) * EPOCHS_3\n",
        "# optimizer_3 = torch.optim.SGD(model_3.parameters(), lr=LEARNING_RATE_3)\n",
        "# scheduler_3 = get_linear_schedule_with_warmup(\n",
        "#     optimizer_3,\n",
        "#     num_warmup_steps=5,\n",
        "#     num_training_steps=total_steps\n",
        "# )\n",
        "# loss_fn_3 = torch.nn.CrossEntropyLoss()\n",
        "\n",
        "EPOCHS_3 = 10\n",
        "LEARNING_RATE_3 = 1e-5\n",
        "loss_fn_3 = torch.nn.CrossEntropyLoss()\n",
        "optimizer_3 = torch.optim.SGD(params =  model_3.parameters(), lr=LEARNING_RATE_3)\n",
        "\n",
        "optimizer_3 = nn_optimizer(model_3, training_loader, validation_loader, test_loader, optimizer_3, loss_fn_3, EPOCHS_3, scheduler=None)\n",
        "optimizer_3.fit()"
      ],
      "metadata": {
        "colab": {
          "base_uri": "https://localhost:8080/"
        },
        "id": "CYmXw4t6PcAJ",
        "outputId": "984cd94c-b850-47bc-9e7c-7b62f3bca243"
      },
      "execution_count": null,
      "outputs": [
        {
          "output_type": "stream",
          "name": "stderr",
          "text": [
            "Some weights of the model checkpoint at HooshvareLab/bert-fa-base-uncased were not used when initializing BertModel: ['cls.seq_relationship.weight', 'cls.predictions.transform.dense.bias', 'cls.predictions.transform.LayerNorm.weight', 'cls.seq_relationship.bias', 'cls.predictions.decoder.weight', 'cls.predictions.decoder.bias', 'cls.predictions.transform.dense.weight', 'cls.predictions.transform.LayerNorm.bias', 'cls.predictions.bias']\n",
            "- This IS expected if you are initializing BertModel from the checkpoint of a model trained on another task or with another architecture (e.g. initializing a BertForSequenceClassification model from a BertForPreTraining model).\n",
            "- This IS NOT expected if you are initializing BertModel from the checkpoint of a model that you expect to be exactly identical (initializing a BertForSequenceClassification model from a BertForSequenceClassification model).\n"
          ]
        },
        {
          "output_type": "stream",
          "name": "stdout",
          "text": [
            "Epoch 1\n",
            "-------------------------------------\n",
            "loss: 2.437391  [    0/40126]\n",
            "loss: 2.370319  [10000/40126]\n",
            "loss: 2.399834  [20000/40126]\n",
            "loss: 2.461103  [30000/40126]\n",
            "loss: 2.462488  [40000/40126]\n",
            "train Accuracy: 9.9%, train Avg loss: 2.352928\n",
            "validation Accuracy: 9.2%, validation Avg loss: 2.358597\n",
            "\n",
            "\n",
            "Epoch 2\n",
            "-------------------------------------\n",
            "loss: 2.393385  [    0/40126]\n",
            "loss: 2.381357  [10000/40126]\n",
            "loss: 2.429692  [20000/40126]\n",
            "loss: 2.359361  [30000/40126]\n",
            "loss: 2.453474  [40000/40126]\n",
            "train Accuracy: 9.8%, train Avg loss: 2.335974\n",
            "validation Accuracy: 9.1%, validation Avg loss: 2.340904\n",
            "\n",
            "\n",
            "Epoch 3\n",
            "-------------------------------------\n",
            "loss: 2.443731  [    0/40126]\n",
            "loss: 2.316437  [10000/40126]\n",
            "loss: 2.391141  [20000/40126]\n",
            "loss: 2.442097  [30000/40126]\n",
            "loss: 2.328263  [40000/40126]\n",
            "train Accuracy: 9.8%, train Avg loss: 2.324825\n",
            "validation Accuracy: 9.4%, validation Avg loss: 2.329055\n",
            "\n",
            "\n",
            "Epoch 4\n",
            "-------------------------------------\n",
            "loss: 2.381228  [    0/40126]\n",
            "loss: 2.420207  [10000/40126]\n",
            "loss: 2.378799  [20000/40126]\n",
            "loss: 2.415765  [30000/40126]\n",
            "loss: 2.384071  [40000/40126]\n",
            "train Accuracy: 9.8%, train Avg loss: 2.317346\n",
            "validation Accuracy: 9.8%, validation Avg loss: 2.321246\n",
            "\n",
            "\n",
            "Epoch 5\n",
            "-------------------------------------\n",
            "loss: 2.420131  [    0/40126]\n",
            "loss: 2.339687  [10000/40126]\n",
            "loss: 2.377160  [20000/40126]\n",
            "loss: 2.401756  [30000/40126]\n",
            "loss: 2.365312  [40000/40126]\n",
            "train Accuracy: 10.1%, train Avg loss: 2.311952\n",
            "validation Accuracy: 10.3%, validation Avg loss: 2.315103\n",
            "\n",
            "\n",
            "Epoch 6\n",
            "-------------------------------------\n",
            "loss: 2.328811  [    0/40126]\n",
            "loss: 2.331316  [10000/40126]\n",
            "loss: 2.408323  [20000/40126]\n",
            "loss: 2.426768  [30000/40126]\n",
            "loss: 2.366718  [40000/40126]\n",
            "train Accuracy: 10.4%, train Avg loss: 2.307848\n",
            "validation Accuracy: 10.7%, validation Avg loss: 2.310597\n",
            "\n",
            "\n",
            "Epoch 7\n",
            "-------------------------------------\n",
            "loss: 2.378568  [    0/40126]\n",
            "loss: 2.335801  [10000/40126]\n",
            "loss: 2.396822  [20000/40126]\n",
            "loss: 2.352991  [30000/40126]\n",
            "loss: 2.380870  [40000/40126]\n",
            "train Accuracy: 10.7%, train Avg loss: 2.304758\n",
            "validation Accuracy: 11.1%, validation Avg loss: 2.307279\n",
            "\n",
            "\n",
            "Epoch 8\n",
            "-------------------------------------\n",
            "loss: 2.353546  [    0/40126]\n",
            "loss: 2.335814  [10000/40126]\n",
            "loss: 2.303847  [20000/40126]\n",
            "loss: 2.409669  [30000/40126]\n",
            "loss: 2.331023  [40000/40126]\n",
            "train Accuracy: 11.0%, train Avg loss: 2.302397\n",
            "validation Accuracy: 11.2%, validation Avg loss: 2.304739\n",
            "\n",
            "\n",
            "Epoch 9\n",
            "-------------------------------------\n",
            "loss: 2.373936  [    0/40126]\n",
            "loss: 2.308505  [10000/40126]\n",
            "loss: 2.352341  [20000/40126]\n",
            "loss: 2.352310  [30000/40126]\n",
            "loss: 2.399367  [40000/40126]\n",
            "train Accuracy: 11.1%, train Avg loss: 2.300447\n",
            "validation Accuracy: 11.4%, validation Avg loss: 2.302572\n",
            "\n",
            "\n",
            "Epoch 10\n",
            "-------------------------------------\n",
            "loss: 2.372820  [    0/40126]\n",
            "loss: 2.335269  [10000/40126]\n",
            "loss: 2.323819  [20000/40126]\n",
            "loss: 2.348413  [30000/40126]\n",
            "loss: 2.350611  [40000/40126]\n",
            "train Accuracy: 11.4%, train Avg loss: 2.298838\n",
            "validation Accuracy: 11.6%, validation Avg loss: 2.300624\n",
            "\n",
            "\n",
            "Done!\n"
          ]
        }
      ]
    },
    {
      "cell_type": "markdown",
      "source": [
        "### SGD: accuracy, loss, f1 score, and confusion matrix"
      ],
      "metadata": {
        "id": "-2ZFhQ6OmqkL"
      }
    },
    {
      "cell_type": "code",
      "source": [
        "correct, test_loss, micro_f1_score, confusion_matrix = optimizer_3.test_loop('test')\n",
        "print(f\"test micro_f1 score: {micro_f1_score:>0.4f}\")\n",
        "plt.figure(figsize=(10, 8), dpi = 100)\n",
        "confusion_matrix = confusion_matrix.detach().to('cpu').numpy()\n",
        "sns.heatmap(confusion_matrix/np.sum(confusion_matrix), annot= True, fmt='.2%', cmap=plt.cm.Blues);\n",
        "plt.show()"
      ],
      "metadata": {
        "colab": {
          "base_uri": "https://localhost:8080/",
          "height": 700
        },
        "id": "8sPdykOplO4L",
        "outputId": "ac8e2907-3ea7-45a7-dd5a-63078bbff137"
      },
      "execution_count": null,
      "outputs": [
        {
          "output_type": "stream",
          "name": "stdout",
          "text": [
            "test Accuracy: 12.2%, test Avg loss: 2.297730\n",
            "test micro_f1 score: 0.1216\n"
          ]
        },
        {
          "output_type": "display_data",
          "data": {
            "text/plain": [
              "<Figure size 1000x800 with 2 Axes>"
            ],
            "image/png": "[encoded data removed]"
          },
          "metadata": {
            "needs_background": "light"
          }
        }
      ]
    },
    {
      "cell_type": "markdown",
      "source": [
        "## **part c**\n"
      ],
      "metadata": {
        "id": "i8AXmsBQm-BP"
      }
    },
    {
      "cell_type": "markdown",
      "source": [
        "### Compute Perplexity\n"
      ],
      "metadata": {
        "id": "k89E49O5Rkqj"
      }
    },
    {
      "cell_type": "code",
      "source": [
        "def unbiased_sample_Maker(poets_list, n_row, n_sample):\n",
        "  list_of_dataframes = []\n",
        "  for i, poet in enumerate(poets_list):\n",
        "    df = pd.read_csv(dir + poet + '_norm.txt' , header = None, names= ['clause'])\n",
        "    df = df.groupby(df.index // n_row).agg(' '.join)\n",
        "    df = df.sample(n=n_sample, replace=False)\n",
        "    list_of_dataframes.append(df)\n",
        "  final_pd = pd.concat(list_of_dataframes).reset_index(drop=True).sample(frac=1)\n",
        "  return list(final_pd['clause'])"
      ],
      "metadata": {
        "id": "sO_3qVzVeBau"
      },
      "execution_count": 21,
      "outputs": []
    },
    {
      "cell_type": "code",
      "source": [
        "!pip install evaluate"
      ],
      "metadata": {
        "colab": {
          "base_uri": "https://localhost:8080/",
          "height": 1000
        },
        "id": "fujyw6YOZ7Yg",
        "outputId": "0720e7fd-1b0d-4906-daeb-e4c288420a8e"
      },
      "execution_count": 17,
      "outputs": [
        {
          "output_type": "stream",
          "name": "stdout",
          "text": [
            "Looking in indexes: https://pypi.org/simple, https://us-python.pkg.dev/colab-wheels/public/simple/\n",
            "Collecting evaluate\n",
            "  Downloading evaluate-0.4.0-py3-none-any.whl (81 kB)\n",
            "\u001b[2K     \u001b[90m━━━━━━━━━━━━━━━━━━━━━━━━━━━━━━━━━━━━━━━━\u001b[0m \u001b[32m81.4/81.4 KB\u001b[0m \u001b[31m5.6 MB/s\u001b[0m eta \u001b[36m0:00:00\u001b[0m\n",
            "\u001b[?25hCollecting responses<0.19\n",
            "  Downloading responses-0.18.0-py3-none-any.whl (38 kB)\n",
            "Requirement already satisfied: huggingface-hub>=0.7.0 in /usr/local/lib/python3.8/dist-packages (from evaluate) (0.12.0)\n",
            "Requirement already satisfied: pandas in /usr/local/lib/python3.8/dist-packages (from evaluate) (1.3.5)\n",
            "Requirement already satisfied: fsspec[http]>=2021.05.0 in /usr/local/lib/python3.8/dist-packages (from evaluate) (2023.1.0)\n",
            "Requirement already satisfied: dill in /usr/local/lib/python3.8/dist-packages (from evaluate) (0.3.6)\n",
            "Collecting datasets>=2.0.0\n",
            "  Downloading datasets-2.9.0-py3-none-any.whl (462 kB)\n",
            "\u001b[2K     \u001b[90m━━━━━━━━━━━━━━━━━━━━━━━━━━━━━━━━━━━━━━\u001b[0m \u001b[32m462.8/462.8 KB\u001b[0m \u001b[31m24.6 MB/s\u001b[0m eta \u001b[36m0:00:00\u001b[0m\n",
            "\u001b[?25hCollecting xxhash\n",
            "  Downloading xxhash-3.2.0-cp38-cp38-manylinux_2_17_x86_64.manylinux2014_x86_64.whl (213 kB)\n",
            "\u001b[2K     \u001b[90m━━━━━━━━━━━━━━━━━━━━━━━━━━━━━━━━━━━━━━\u001b[0m \u001b[32m213.0/213.0 KB\u001b[0m \u001b[31m25.7 MB/s\u001b[0m eta \u001b[36m0:00:00\u001b[0m\n",
            "\u001b[?25hRequirement already satisfied: tqdm>=4.62.1 in /usr/local/lib/python3.8/dist-packages (from evaluate) (4.64.1)\n",
            "Collecting multiprocess\n",
            "  Downloading multiprocess-0.70.14-py38-none-any.whl (132 kB)\n",
            "\u001b[2K     \u001b[90m━━━━━━━━━━━━━━━━━━━━━━━━━━━━━━━━━━━━━━\u001b[0m \u001b[32m132.0/132.0 KB\u001b[0m \u001b[31m19.2 MB/s\u001b[0m eta \u001b[36m0:00:00\u001b[0m\n",
            "\u001b[?25hRequirement already satisfied: packaging in /usr/local/lib/python3.8/dist-packages (from evaluate) (23.0)\n",
            "Requirement already satisfied: numpy>=1.17 in /usr/local/lib/python3.8/dist-packages (from evaluate) (1.21.6)\n",
            "Requirement already satisfied: requests>=2.19.0 in /usr/local/lib/python3.8/dist-packages (from evaluate) (2.25.1)\n",
            "Requirement already satisfied: aiohttp in /usr/local/lib/python3.8/dist-packages (from datasets>=2.0.0->evaluate) (3.8.3)\n",
            "Requirement already satisfied: pyyaml>=5.1 in /usr/local/lib/python3.8/dist-packages (from datasets>=2.0.0->evaluate) (6.0)\n",
            "Requirement already satisfied: pyarrow>=6.0.0 in /usr/local/lib/python3.8/dist-packages (from datasets>=2.0.0->evaluate) (9.0.0)\n",
            "Requirement already satisfied: filelock in /usr/local/lib/python3.8/dist-packages (from huggingface-hub>=0.7.0->evaluate) (3.9.0)\n",
            "Requirement already satisfied: typing-extensions>=3.7.4.3 in /usr/local/lib/python3.8/dist-packages (from huggingface-hub>=0.7.0->evaluate) (4.4.0)\n",
            "Requirement already satisfied: urllib3<1.27,>=1.21.1 in /usr/local/lib/python3.8/dist-packages (from requests>=2.19.0->evaluate) (1.24.3)\n",
            "Requirement already satisfied: chardet<5,>=3.0.2 in /usr/local/lib/python3.8/dist-packages (from requests>=2.19.0->evaluate) (4.0.0)\n",
            "Requirement already satisfied: certifi>=2017.4.17 in /usr/local/lib/python3.8/dist-packages (from requests>=2.19.0->evaluate) (2022.12.7)\n",
            "Requirement already satisfied: idna<3,>=2.5 in /usr/local/lib/python3.8/dist-packages (from requests>=2.19.0->evaluate) (2.10)\n",
            "Collecting urllib3<1.27,>=1.21.1\n",
            "  Downloading urllib3-1.26.14-py2.py3-none-any.whl (140 kB)\n",
            "\u001b[2K     \u001b[90m━━━━━━━━━━━━━━━━━━━━━━━━━━━━━━━━━━━━━━\u001b[0m \u001b[32m140.6/140.6 KB\u001b[0m \u001b[31m19.2 MB/s\u001b[0m eta \u001b[36m0:00:00\u001b[0m\n",
            "\u001b[?25hRequirement already satisfied: python-dateutil>=2.7.3 in /usr/local/lib/python3.8/dist-packages (from pandas->evaluate) (2.8.2)\n",
            "Requirement already satisfied: pytz>=2017.3 in /usr/local/lib/python3.8/dist-packages (from pandas->evaluate) (2022.7.1)\n",
            "Requirement already satisfied: frozenlist>=1.1.1 in /usr/local/lib/python3.8/dist-packages (from aiohttp->datasets>=2.0.0->evaluate) (1.3.3)\n",
            "Requirement already satisfied: yarl<2.0,>=1.0 in /usr/local/lib/python3.8/dist-packages (from aiohttp->datasets>=2.0.0->evaluate) (1.8.2)\n",
            "Requirement already satisfied: multidict<7.0,>=4.5 in /usr/local/lib/python3.8/dist-packages (from aiohttp->datasets>=2.0.0->evaluate) (6.0.4)\n",
            "Requirement already satisfied: aiosignal>=1.1.2 in /usr/local/lib/python3.8/dist-packages (from aiohttp->datasets>=2.0.0->evaluate) (1.3.1)\n",
            "Requirement already satisfied: async-timeout<5.0,>=4.0.0a3 in /usr/local/lib/python3.8/dist-packages (from aiohttp->datasets>=2.0.0->evaluate) (4.0.2)\n",
            "Requirement already satisfied: charset-normalizer<3.0,>=2.0 in /usr/local/lib/python3.8/dist-packages (from aiohttp->datasets>=2.0.0->evaluate) (2.1.1)\n",
            "Requirement already satisfied: attrs>=17.3.0 in /usr/local/lib/python3.8/dist-packages (from aiohttp->datasets>=2.0.0->evaluate) (22.2.0)\n",
            "Requirement already satisfied: six>=1.5 in /usr/local/lib/python3.8/dist-packages (from python-dateutil>=2.7.3->pandas->evaluate) (1.15.0)\n",
            "Installing collected packages: xxhash, urllib3, multiprocess, responses, datasets, evaluate\n",
            "  Attempting uninstall: urllib3\n",
            "    Found existing installation: urllib3 1.24.3\n",
            "    Uninstalling urllib3-1.24.3:\n",
            "      Successfully uninstalled urllib3-1.24.3\n",
            "Successfully installed datasets-2.9.0 evaluate-0.4.0 multiprocess-0.70.14 responses-0.18.0 urllib3-1.26.14 xxhash-3.2.0\n"
          ]
        },
        {
          "output_type": "display_data",
          "data": {
            "application/vnd.colab-display-data+json": {
              "pip_warning": {
                "packages": [
                  "urllib3"
                ]
              }
            }
          },
          "metadata": {}
        }
      ]
    },
    {
      "cell_type": "code",
      "source": [
        "import evaluate\n",
        "perplexity = evaluate.load(\"perplexity\", module_type=\"metric\")\n",
        "poets_list = ['bahar','ferdousi','attar','iqbal','moulavi','parvin','saadi','farrokhi','jami','saeb']\n",
        "input_texts = unbiased_sample_Maker(poets_list, n_row=2, n_sample=100)\n",
        "\n",
        "without_fine_tuning_results = perplexity.compute(model_id='HooshvareLab/bert-fa-base-uncased',\n",
        "                             add_start_token=False,\n",
        "                             predictions=input_texts)\n",
        "print(f'{list(without_fine_tuning_results.keys())}')\n",
        "print(f'perplexity without fine-tuning {round(without_fine_tuning_results[\"mean_perplexity\"], 2)}\\n')\n",
        "print('-----------------------------------------------------------------\\n')\n",
        "\n",
        "ParsBERT_model_2.save_pretrained('./fine_tuned_model_configs')\n",
        "tokenizer.save_pretrained('./fine_tuned_model_configs')\n",
        "\n",
        "with_fine_tuning_results = perplexity.compute(model_id='./fine_tuned_model_configs',\n",
        "                             add_start_token=False,\n",
        "                             predictions=input_texts)\n",
        "print(f'perplexity with fine-tuning {round(with_fine_tuning_results[\"mean_perplexity\"], 2)}')"
      ],
      "metadata": {
        "id": "oV-MAjaBm_wh",
        "colab": {
          "base_uri": "https://localhost:8080/",
          "height": 333,
          "referenced_widgets": [
            "1e4a478acfcb431ba2fc943bd6311f78",
            "f8954dafb3e5407ab50f3acc1bd1ada9",
            "e9411a283f744f4190203dac5b6c0ba7",
            "b4ac9dcf6e4146e2a4471f842a33054b",
            "6fda2c8128ca44158cecc6a1b7786d22",
            "52d80577bbc04646b8d22fc63296b7d0",
            "6643f4907ee04ddb9d8b68852c1eb2af",
            "008c031c28374c95985cbe5e0a1c11ad",
            "a3aa8fa39da945378c4e0b61c766658a",
            "3450c7dce50d4743acef81e229a95d4a",
            "028e2ba4f1fd4aa1baf66857e304297f",
            "fad9812ceabd419eab096f81e1fe74ce",
            "0fb80271448947419fb268330418fa7e",
            "ee84a45e613d4d948766da605dc150ab",
            "39d5336b3da34abba5901d39f7980f5c",
            "d73e69fc721e4198ad3793dbf68981fb",
            "6118fe5aafe94d5d89076ed84d0e219c",
            "d56cf5197d8540b78bf2a10933c77b97",
            "30722a7311bb4b73ae35ffd025f942a1",
            "25fcb054f16147b8a96205345ded609b",
            "84029484d749494394530d356ba6aabc",
            "17576b7ec5324ef080604c228b920f9a"
          ]
        },
        "outputId": "7c3e6176-0f9c-4443-a747-5fe9c03ec436"
      },
      "execution_count": 26,
      "outputs": [
        {
          "output_type": "stream",
          "name": "stderr",
          "text": [
            "If you want to use `BertLMHeadModel` as a standalone, add `is_decoder=True.`\n",
            "Some weights of the model checkpoint at HooshvareLab/bert-fa-base-uncased were not used when initializing BertLMHeadModel: ['cls.seq_relationship.bias', 'cls.seq_relationship.weight']\n",
            "- This IS expected if you are initializing BertLMHeadModel from the checkpoint of a model trained on another task or with another architecture (e.g. initializing a BertForSequenceClassification model from a BertForPreTraining model).\n",
            "- This IS NOT expected if you are initializing BertLMHeadModel from the checkpoint of a model that you expect to be exactly identical (initializing a BertForSequenceClassification model from a BertForSequenceClassification model).\n"
          ]
        },
        {
          "output_type": "display_data",
          "data": {
            "text/plain": [
              "  0%|          | 0/63 [00:00<?, ?it/s]"
            ],
            "application/vnd.jupyter.widget-view+json": {
              "version_major": 2,
              "version_minor": 0,
              "model_id": "1e4a478acfcb431ba2fc943bd6311f78"
            }
          },
          "metadata": {}
        },
        {
          "output_type": "stream",
          "name": "stdout",
          "text": [
            "['perplexities', 'mean_perplexity']\n",
            "perplexity without fine-tuning 3200419.09\n",
            "\n",
            "-----------------------------------------------------------------\n",
            "\n"
          ]
        },
        {
          "output_type": "stream",
          "name": "stderr",
          "text": [
            "If you want to use `BertLMHeadModel` as a standalone, add `is_decoder=True.`\n",
            "Some weights of BertLMHeadModel were not initialized from the model checkpoint at ./fine_tuned_model_configs and are newly initialized: ['cls.predictions.transform.dense.weight', 'cls.predictions.bias', 'cls.predictions.transform.LayerNorm.weight', 'cls.predictions.transform.dense.bias', 'cls.predictions.transform.LayerNorm.bias']\n",
            "You should probably TRAIN this model on a down-stream task to be able to use it for predictions and inference.\n"
          ]
        },
        {
          "output_type": "display_data",
          "data": {
            "text/plain": [
              "  0%|          | 0/63 [00:00<?, ?it/s]"
            ],
            "application/vnd.jupyter.widget-view+json": {
              "version_major": 2,
              "version_minor": 0,
              "model_id": "fad9812ceabd419eab096f81e1fe74ce"
            }
          },
          "metadata": {}
        },
        {
          "output_type": "stream",
          "name": "stdout",
          "text": [
            "perplexity with fine-tuning 133166.75\n"
          ]
        }
      ]
    },
    {
      "cell_type": "markdown",
      "source": [
        "<div dir='rtl'> <font size='4'>\n",
        "همان‌‌طور که انتظار داشتیم، perplexity یا همان میزان شگفت‌زدگی مدل بعد از \n",
        "fine-tuning\n",
        "به شدت کاهش یافته است زیرا مدل جدید نسبت به دیتاست جدیدی که شامل ابیات بوده دوباره آموزش دیده است و ابیات این دیتاست برای این مدل بازآموزش‌دیده‌شده محتمل‌تر است.\n",
        "</font> </div>"
      ],
      "metadata": {
        "id": "TagI-LaGmdRu"
      }
    }
  ]
}